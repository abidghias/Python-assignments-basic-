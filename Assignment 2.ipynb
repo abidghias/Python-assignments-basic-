{
 "cells": [
  {
   "cell_type": "raw",
   "id": "systematic-assessment",
   "metadata": {},
   "source": [
    "1. Boolean data type can either be true or false.\n",
    "   They are represented by True and False where the first letter is capital. \n",
    "   \n",
    "2. The 3 boolean operators in python are --> and,or and not\n",
    "      \n",
    "      and - both the conditions must satisfy for the value to be truw\n",
    "          eg. 3>2 and 5<10 returns true\n",
    "      \n",
    "      or  - at least one of the conditions must satisfy for the value to be         true\n",
    "          eg. 3>2 or 5<2 returns true\n",
    "      Althought the second condition fails (i.e output is False), since the first condition is satisified it gives output as True\n",
    "          \n",
    "      not - returns the opposite of what was desired from the expression\n",
    "          eg. not(5>10) returns True\n",
    "     \n",
    "3.  2 == 2 and 2 >= 2 ---> True\n",
    "    4 == 3 and 10 > 2 ---> False\n",
    "    10 > 2 and 4 == 3 ---> False\n",
    "    3 == 2 and 2 > 10 ---> False\n",
    "    \n",
    "    \n",
    "    2 == 2 or 3 != 2 ---> True (!=  --> not equal to operation)\n",
    "    3 > 2 or 2 < 3   ---> True\n",
    "    2 < 4 or 10 >2   ---  True\n",
    "    2 > 2 or  2 < 2  ---> False (both conditions fail)\n",
    "\n",
    "\n",
    "    "
   ]
  },
  {
   "cell_type": "code",
   "execution_count": 3,
   "id": "variable-penalty",
   "metadata": {},
   "outputs": [
    {
     "data": {
      "text/plain": [
       "False"
      ]
     },
     "execution_count": 3,
     "metadata": {},
     "output_type": "execute_result"
    }
   ],
   "source": [
    "#4. \n",
    "(5>4)  and 3 ==5"
   ]
  },
  {
   "cell_type": "code",
   "execution_count": 4,
   "id": "adjacent-asset",
   "metadata": {},
   "outputs": [
    {
     "data": {
      "text/plain": [
       "False"
      ]
     },
     "execution_count": 4,
     "metadata": {},
     "output_type": "execute_result"
    }
   ],
   "source": [
    "not(5>4)"
   ]
  },
  {
   "cell_type": "code",
   "execution_count": 5,
   "id": "equal-beach",
   "metadata": {},
   "outputs": [
    {
     "data": {
      "text/plain": [
       "True"
      ]
     },
     "execution_count": 5,
     "metadata": {},
     "output_type": "execute_result"
    }
   ],
   "source": [
    "5>4 or 3 ==5"
   ]
  },
  {
   "cell_type": "code",
   "execution_count": 7,
   "id": "scientific-silver",
   "metadata": {},
   "outputs": [
    {
     "data": {
      "text/plain": [
       "False"
      ]
     },
     "execution_count": 7,
     "metadata": {},
     "output_type": "execute_result"
    }
   ],
   "source": [
    "not(5>4) or 3 == 5 "
   ]
  },
  {
   "cell_type": "code",
   "execution_count": 8,
   "id": "advance-documentary",
   "metadata": {},
   "outputs": [
    {
     "data": {
      "text/plain": [
       "False"
      ]
     },
     "execution_count": 8,
     "metadata": {},
     "output_type": "execute_result"
    }
   ],
   "source": [
    "(True and True) and (True == False)"
   ]
  },
  {
   "cell_type": "code",
   "execution_count": 9,
   "id": "representative-symphony",
   "metadata": {},
   "outputs": [
    {
     "data": {
      "text/plain": [
       "True"
      ]
     },
     "execution_count": 9,
     "metadata": {},
     "output_type": "execute_result"
    }
   ],
   "source": [
    "(not False) or (not True)"
   ]
  },
  {
   "cell_type": "raw",
   "id": "viral-namibia",
   "metadata": {},
   "source": [
    "5. Reference operators \n",
    "   ONE. Arithmetic operator \n",
    "     + -> addition\n",
    "         Returns the sum of the two expressions\n",
    "         eg. a = 1 + 2 = 3\n",
    "     - -> subtraction)\n",
    "        Returns the difference of two expressions.\n",
    "         eg. a = 2 - 1 = 1\n",
    "      * -> multiplication\n",
    "        Returns the product of two expressions.\n",
    "         eg. a = 2*2 = 4\n",
    "      ** -> power\n",
    "        Returns the value of a numeric expression raised to a specified   .         power.\n",
    "        eg. 2**3 = 8 \n",
    "      / -> division\n",
    "        Returns the quotient of two expressions.\n",
    "        eg. a = 2/2\n",
    "     // -> floor division\n",
    "        Returns the integral part of the quotient.\n",
    "       % -> modulus\n",
    "       Returns the decimal part (remainder) of the quotient.\n",
    "       \n",
    "     TWO.   Assignment operator (=,+=,-=,/=)\n",
    "     THREE. Relational operator (==,>,<,>=,<=,!=)\n",
    "     FOUR.  Boolean operator    (and, or, not)\n",
    "     FIVE.  Condition operator  (if, elif, else)\n",
    "     SIX.   Identity operator   (is) --> checks if value of the 2 is same\n",
    "     "
   ]
  },
  {
   "cell_type": "code",
   "execution_count": 10,
   "id": "individual-filter",
   "metadata": {},
   "outputs": [
    {
     "data": {
      "text/plain": [
       "True"
      ]
     },
     "execution_count": 10,
     "metadata": {},
     "output_type": "execute_result"
    }
   ],
   "source": [
    "a=10\n",
    "b=10\n",
    "a==b\n",
    "    "
   ]
  },
  {
   "cell_type": "raw",
   "id": "challenging-roberts",
   "metadata": {},
   "source": [
    "6. \n",
    "        a = 10 is assignment \n",
    "        checking if a is equal to b is the equal to operator"
   ]
  },
  {
   "cell_type": "code",
   "execution_count": 11,
   "id": "differential-audience",
   "metadata": {},
   "outputs": [
    {
     "name": "stdout",
     "output_type": "stream",
     "text": [
      "a and b are equal\n"
     ]
    }
   ],
   "source": [
    "a = 10 \n",
    "b = 10 \n",
    "if( a == b):\n",
    "    print('a and b are equal')\n",
    "else: \n",
    "    print('not equal')"
   ]
  },
  {
   "cell_type": "raw",
   "id": "defined-boston",
   "metadata": {},
   "source": [
    "7. if the condition inside the if block is satisfied then control goes          inside the block (through indentation) \n",
    "    \n",
    "   else it goes to the else block if condition fails\n",
    "    "
   ]
  },
  {
   "cell_type": "code",
   "execution_count": 14,
   "id": "frequent-address",
   "metadata": {},
   "outputs": [
    {
     "name": "stdout",
     "output_type": "stream",
     "text": [
      "ham\n",
      "spam\n",
      "spam\n"
     ]
    }
   ],
   "source": [
    "spam = 0\n",
    "if spam == 10:\n",
    "    print('eggs')\n",
    "if spam > 5:\n",
    "    print('bacon')\n",
    "else:\n",
    "    print('ham')\n",
    "    print('spam')\n",
    "print('spam')\n"
   ]
  },
  {
   "cell_type": "raw",
   "id": "arranged-advancement",
   "metadata": {},
   "source": [
    "8. this is an if-else block \n",
    "    spam is assigned the value 0 and goes into the first if block \n",
    "    since its not equal to 10 it goes to the next if block\n",
    "    \n",
    "    Here as well, 0 is not greater than 0 and therefore automatically prints the else block. \n",
    "    it prints if the 'if' block condition is failed (in this case)\n",
    "    "
   ]
  },
  {
   "cell_type": "code",
   "execution_count": 18,
   "id": "horizontal-elite",
   "metadata": {},
   "outputs": [
    {
     "name": "stdout",
     "output_type": "stream",
     "text": [
      "23\n",
      "I've got nothing\n"
     ]
    }
   ],
   "source": [
    "#9 \n",
    "spam = int(input())\n",
    "if spam == 1:\n",
    "    print('Hello')\n",
    "elif spam ==2:\n",
    "    print('Howdy')\n",
    "elif spam ==3:\n",
    "    print('Salutations!')\n",
    "else:\n",
    "    print(\"I've got nothing\")"
   ]
  },
  {
   "cell_type": "raw",
   "id": "consecutive-pantyhose",
   "metadata": {},
   "source": [
    "10.  CTRL+C"
   ]
  },
  {
   "cell_type": "raw",
   "id": "registered-saturday",
   "metadata": {},
   "source": [
    "11. break - when it is executed, controls come out of the loop and breaks it\n",
    "        \n",
    "     continue - when it is executed, control is transferred back to the  start of the condition and it skips all the lines that follow it.\n",
    "     \n",
    "     Loop in continue does not terminate in continue unlike in break"
   ]
  },
  {
   "cell_type": "raw",
   "id": "floating-hampshire",
   "metadata": {},
   "source": [
    "12. output for all the 3 is same\n",
    "\n",
    "       range(start index,stop index,skip_count)\n",
    "         start index if not mentioned is 0 (default)\n",
    "         stop index prints everything until that point \n",
    "             eg. range(0,10) ----> 0,1,2.....7,8,9\n",
    "         skip count is basically a way to determine how many hops to be taken"
   ]
  },
  {
   "cell_type": "code",
   "execution_count": 27,
   "id": "valid-museum",
   "metadata": {},
   "outputs": [
    {
     "name": "stdout",
     "output_type": "stream",
     "text": [
      "1\n",
      "2\n",
      "3\n",
      "4\n",
      "5\n",
      "6\n",
      "7\n",
      "8\n",
      "9\n",
      "10\n"
     ]
    }
   ],
   "source": [
    "#13\n",
    "for i in range(1,11):\n",
    "    print(i)"
   ]
  },
  {
   "cell_type": "code",
   "execution_count": 31,
   "id": "short-taylor",
   "metadata": {},
   "outputs": [
    {
     "name": "stdout",
     "output_type": "stream",
     "text": [
      "1\n",
      "2\n",
      "3\n",
      "4\n",
      "5\n",
      "6\n",
      "7\n",
      "8\n",
      "9\n",
      "10\n"
     ]
    }
   ],
   "source": [
    "count = 1\n",
    "while count <= 10:\n",
    "    print(count)\n",
    "    count += 1"
   ]
  },
  {
   "cell_type": "markdown",
   "id": "reserved-carpet",
   "metadata": {},
   "source": [
    "14. spam.bacon()\n",
    "   "
   ]
  },
  {
   "cell_type": "code",
   "execution_count": null,
   "id": "following-differential",
   "metadata": {},
   "outputs": [],
   "source": []
  }
 ],
 "metadata": {
  "kernelspec": {
   "display_name": "Python 3",
   "language": "python",
   "name": "python3"
  },
  "language_info": {
   "codemirror_mode": {
    "name": "ipython",
    "version": 3
   },
   "file_extension": ".py",
   "mimetype": "text/x-python",
   "name": "python",
   "nbconvert_exporter": "python",
   "pygments_lexer": "ipython3",
   "version": "3.7.6"
  }
 },
 "nbformat": 4,
 "nbformat_minor": 5
}
