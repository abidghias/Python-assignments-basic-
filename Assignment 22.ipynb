{
 "cells": [
  {
   "cell_type": "code",
   "execution_count": 1,
   "id": "structural-elimination",
   "metadata": {},
   "outputs": [
    {
     "name": "stdout",
     "output_type": "stream",
     "text": [
      "iNeuron\n"
     ]
    }
   ],
   "source": [
    "#1\n",
    "X = 'iNeuron'\n",
    "def func():\n",
    "    print(X)\n",
    "\n",
    "func()\n"
   ]
  },
  {
   "cell_type": "raw",
   "id": "wanted-major",
   "metadata": {},
   "source": [
    "X is a variable which has a global scope and can be accessed anywhere. we are defining a function and printing that variable inside the function. \n",
    "\n",
    "The function is executed only when it called/referred."
   ]
  },
  {
   "cell_type": "code",
   "execution_count": 4,
   "id": "following-brook",
   "metadata": {},
   "outputs": [
    {
     "name": "stdout",
     "output_type": "stream",
     "text": [
      "iNeuron\n"
     ]
    }
   ],
   "source": [
    "#2\n",
    "X = 'iNeuron'\n",
    "def func():\n",
    "    X = 'NI!'\n",
    "\n",
    "func()\n",
    "print(X)"
   ]
  },
  {
   "cell_type": "markdown",
   "id": "progressive-heart",
   "metadata": {},
   "source": [
    "This X inside the function has only a local scope which means that it can be called only inside the function \n",
    "\n",
    "Now since there is an X already declared it takes precedence and that is printed "
   ]
  },
  {
   "cell_type": "code",
   "execution_count": 5,
   "id": "killing-camping",
   "metadata": {},
   "outputs": [
    {
     "name": "stdout",
     "output_type": "stream",
     "text": [
      "NI!\n",
      "iNeuron\n"
     ]
    }
   ],
   "source": [
    "#3\n",
    "X = 'iNeuron'\n",
    "def func():\n",
    "    X = 'NI!'\n",
    "    print(X)\n",
    "\n",
    "func()\n",
    "print(X)"
   ]
  },
  {
   "cell_type": "markdown",
   "id": "veterinary-commodity",
   "metadata": {},
   "source": [
    "This concept again goes back to local vs global scope, first print statement is inside the function and it takes precedence over the global scope.\n",
    "\n",
    "the next print function is same as in the previous execution "
   ]
  },
  {
   "cell_type": "code",
   "execution_count": 6,
   "id": "attractive-circle",
   "metadata": {},
   "outputs": [
    {
     "name": "stdout",
     "output_type": "stream",
     "text": [
      "NI\n"
     ]
    }
   ],
   "source": [
    "#4\n",
    "X = 'iNeuron'\n",
    "def func():\n",
    "    global X\n",
    "    X = 'NI'\n",
    "\n",
    "\n",
    "func()\n",
    "print(X)"
   ]
  },
  {
   "cell_type": "markdown",
   "id": "bulgarian-russell",
   "metadata": {},
   "source": [
    "mentioning the keyword global inside the function gives it precedence over the traditional variable declared outside the function and 'NI' is printed in this case"
   ]
  },
  {
   "cell_type": "code",
   "execution_count": 7,
   "id": "sought-blocking",
   "metadata": {},
   "outputs": [
    {
     "name": "stdout",
     "output_type": "stream",
     "text": [
      "NI\n",
      "iNeuron\n"
     ]
    }
   ],
   "source": [
    "#5\n",
    "X = 'iNeuron'\n",
    "def func():\n",
    "    X = 'NI'\n",
    "    def nested():\n",
    "        print(X)\n",
    "    nested()\n",
    "\n",
    "\n",
    "func()\n",
    "print(X)"
   ]
  },
  {
   "cell_type": "markdown",
   "id": "infectious-husband",
   "metadata": {},
   "source": [
    "A function is declared inside another function here, \n",
    "func() is called, X's value is stored as 'NI' then nested function is called, which prints this value of X over the first decleration because local variable are given precedence inside the function and global variables are given precedence outside the function unless 'global' keyword is used inside the function such in the case of the previous question.\n",
    "\n",
    "Then X (global) is printed which is ineuron"
   ]
  },
  {
   "cell_type": "code",
   "execution_count": 16,
   "id": "friendly-clock",
   "metadata": {},
   "outputs": [
    {
     "name": "stdout",
     "output_type": "stream",
     "text": [
      "Spam\n"
     ]
    }
   ],
   "source": [
    "def func():\n",
    "    X = 'NI'\n",
    "    def nested():\n",
    "        nonlocal X\n",
    "        X = 'Spam'\n",
    "    nested()\n",
    "    print(X)\n",
    "func()"
   ]
  },
  {
   "cell_type": "markdown",
   "id": "young-clarity",
   "metadata": {},
   "source": [
    "The nonlocal keyword is used to work with variables inside nested functions, where the variable(X = 'NI', in this case) should not belong to the inner function."
   ]
  },
  {
   "cell_type": "markdown",
   "id": "changed-pulse",
   "metadata": {},
   "source": [
    "global\n",
    "\n",
    "nonlocal\n",
    "\n",
    "decorator functions \n",
    "\n",
    "closure factory functions\n"
   ]
  },
  {
   "cell_type": "code",
   "execution_count": null,
   "id": "upper-slovakia",
   "metadata": {},
   "outputs": [],
   "source": []
  }
 ],
 "metadata": {
  "kernelspec": {
   "display_name": "Python 3",
   "language": "python",
   "name": "python3"
  },
  "language_info": {
   "codemirror_mode": {
    "name": "ipython",
    "version": 3
   },
   "file_extension": ".py",
   "mimetype": "text/x-python",
   "name": "python",
   "nbconvert_exporter": "python",
   "pygments_lexer": "ipython3",
   "version": "3.7.6"
  }
 },
 "nbformat": 4,
 "nbformat_minor": 5
}
