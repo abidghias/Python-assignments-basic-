{
 "cells": [
  {
   "cell_type": "raw",
   "id": "independent-screening",
   "metadata": {},
   "source": [
    "1. As an expression, lambda returns a value that can optionally be assigned a name. In contrast, the def statement always assigns the new function to the name in the header, instead of returning is as a result. lambda's body is a single expression, not a block of statements.\n",
    "\n",
    "lambda is an anonymous function and can be declared and executed in a single expression"
   ]
  },
  {
   "cell_type": "code",
   "execution_count": 4,
   "id": "conceptual-reference",
   "metadata": {},
   "outputs": [
    {
     "name": "stdout",
     "output_type": "stream",
     "text": [
      "5\n"
     ]
    }
   ],
   "source": [
    "remainder = lambda num: num % 2\n",
    "\n",
    "print((5))"
   ]
  },
  {
   "cell_type": "markdown",
   "id": "pretty-positive",
   "metadata": {},
   "source": [
    "2. Lambda functions are used when you need a function for a short period of time\n",
    "\n",
    "\n",
    "Fewer lines and higher efficiency"
   ]
  },
  {
   "cell_type": "code",
   "execution_count": 5,
   "id": "devoted-truck",
   "metadata": {},
   "outputs": [
    {
     "name": "stdout",
     "output_type": "stream",
     "text": [
      "Filtered list : [2, 4, 6, 8, 10]\n",
      "Mapped list : [False, True, False, True, False, True, False, True, False, True]\n"
     ]
    }
   ],
   "source": [
    "#3\n",
    "numbers = [1,2,3,4,5,6,7,8,9,10]\n",
    "filter_list = list(filter(lambda x : (x % 2 == 0),numbers))\n",
    "print('Filtered list : {}'.format(filter_list))\n",
    "\n",
    "map_list = list(map(lambda x : (x % 2 == 0),numbers))\n",
    "print('Mapped list : {}'.format(map_list))"
   ]
  },
  {
   "cell_type": "markdown",
   "id": "working-combining",
   "metadata": {},
   "source": [
    "Filter requires a function and sequence(iterable) as its parameters.\n",
    "It gives output if the condition is satisfied\n",
    "\n",
    "Map function executes a specified function for each item in a iterable. The item is sent to the function as a parameter.\n",
    "it applies the function to all the iterables and gives true or false for each iterable \n"
   ]
  },
  {
   "cell_type": "markdown",
   "id": "worst-question",
   "metadata": {},
   "source": [
    "4. Function annotations introduced the concept and syntax for adding arbitrary \n",
    "    metadata annotations to Python. \n",
    "    \n",
    "    So it describes the type of data expected, and the data type of the output that it will generate. \n",
    "    \n",
    "    it has no life during RUN TIME "
   ]
  },
  {
   "cell_type": "code",
   "execution_count": 1,
   "id": "intermediate-group",
   "metadata": {},
   "outputs": [
    {
     "name": "stdout",
     "output_type": "stream",
     "text": [
      "[1, 1, 2, 3, 5]\n"
     ]
    }
   ],
   "source": [
    "def fib(n:'int', output:'list'=[])-> 'list': \n",
    "    if n == 0: \n",
    "        return output \n",
    "    else: \n",
    "        if len(output)< 2: \n",
    "            output.append(1) \n",
    "            fib(n-1, output) \n",
    "        else: \n",
    "            last = output[-1] \n",
    "            second_last = output[-2] \n",
    "            output.append(last + second_last) \n",
    "            fib(n-1, output) \n",
    "        return output \n",
    "print(fib(5))"
   ]
  },
  {
   "cell_type": "markdown",
   "id": "prescription-advertising",
   "metadata": {},
   "source": [
    "n is type int, output should be in the form of a list"
   ]
  },
  {
   "cell_type": "markdown",
   "id": "beautiful-watch",
   "metadata": {},
   "source": [
    "5. When a function calls itself repeatedly until a certain condition is met it is a recursive function."
   ]
  },
  {
   "cell_type": "code",
   "execution_count": 2,
   "id": "intimate-mistress",
   "metadata": {},
   "outputs": [
    {
     "name": "stdout",
     "output_type": "stream",
     "text": [
      "The factorial of 3 is 6\n"
     ]
    }
   ],
   "source": [
    "def factorial(x):\n",
    "    \"\"\"This is a recursive function\n",
    "    to find the factorial of an integer\"\"\"\n",
    "\n",
    "    if x == 1:\n",
    "        return 1\n",
    "    else:\n",
    "        return (x * factorial(x-1))\n",
    "\n",
    "\n",
    "num = 3\n",
    "print(\"The factorial of\", num, \"is\", factorial(num))"
   ]
  },
  {
   "cell_type": "markdown",
   "id": "printable-magnet",
   "metadata": {},
   "source": [
    "Here, in the return statement, x is multiplied with the value at the function decleration minus 1 ... \n",
    "\n",
    "\n",
    "\n",
    "    3 * (3-1) = 6"
   ]
  },
  {
   "cell_type": "markdown",
   "id": "inner-wales",
   "metadata": {},
   "source": [
    "6. 1. Following a proper naming convention which everyone can understand\n",
    "   2. Writing Modular and Non-Repetitive Code by dividing into modules and functions\n",
    "   3. Use OOPS for better usabiliy\n",
    "   4. Comment and document your code\n",
    "   "
   ]
  },
  {
   "cell_type": "markdown",
   "id": "spread-thesis",
   "metadata": {},
   "source": [
    "7.  1. Closure programming \n",
    "    2. Declaring a nonlocal variable\n",
    "    3. return statement\n",
    "    4. passing parameters from one function to another "
   ]
  },
  {
   "cell_type": "code",
   "execution_count": null,
   "id": "urban-amendment",
   "metadata": {},
   "outputs": [],
   "source": []
  }
 ],
 "metadata": {
  "kernelspec": {
   "display_name": "Python 3",
   "language": "python",
   "name": "python3"
  },
  "language_info": {
   "codemirror_mode": {
    "name": "ipython",
    "version": 3
   },
   "file_extension": ".py",
   "mimetype": "text/x-python",
   "name": "python",
   "nbconvert_exporter": "python",
   "pygments_lexer": "ipython3",
   "version": "3.7.6"
  }
 },
 "nbformat": 4,
 "nbformat_minor": 5
}
