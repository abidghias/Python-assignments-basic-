{
 "cells": [
  {
   "cell_type": "markdown",
   "id": "connected-illustration",
   "metadata": {},
   "source": [
    "1.\n",
    "\\* Multiplication operator \n",
    "\n",
    "'hello' - String format representation \n",
    "\n",
    "-87.8   - negative floating type\n",
    "\n",
    "\\-       - Subtraction operator\n",
    "\n",
    "/       - Divison operator\n",
    "\n",
    "\\+       - Addition operator\n",
    "\n",
    "6       - Integer type \n",
    "\n",
    "2. \tspam is a name representation of the place where the data is stored\n",
    " \t'spam' is the string data type \n",
    "    \n",
    "\n",
    "3.      Three data forms\n",
    "\t\tstring- Represented using ' ' or \" \" is a type which can store any alphanumeric characters inside string notation\n",
    "\t\tNumber - This can be either integer(2) or float(2.3) or a negative as well\n",
    "\t\tlist - Represented using square brackets [], it can store any data type similiar to that of a stack\n",
    "        \n",
    "\n",
    "4. \tAnything that represents something is an expression, \n",
    "\t\teg. a = 10, a = 9 + 10 (9+10 is an expression)\n",
    "\there integer value 10 is assigned to variable a\n",
    "\tSo it is a combination of values, operators, variables\n",
    "\n",
    "\tfunction is something that carries out the activity, for example - print('hi') \n",
    "\t\tHere print is a function that displays the output which is in the brackets\n",
    "\n",
    "\n",
    "5.\t10 here is an integer value that is assigned to the variable spam\n",
    "\tso 10 is the (single)expression and spam is the decleration and '=' is the one binding between the two\n",
    "\n",
    "\n",
    "6. \t23\n",
    "\n",
    "\n",
    "7. \t'spamspamspam', same in both cases \n",
    "\t\t1st case is concatenation \n",
    "\t\t2nd case is multiplying the string itself by 3\n",
    "\n",
    "\n",
    "8.\teggs has a character representation which can be assigned a value, \n",
    "\t100 is a value itself and cannot be assigned to to another value\n",
    "\n",
    "\n",
    "9. \tint(2.3) = 2\n",
    "\tfloat(2) = 2.0\n",
    "\tstring(2)= '2'\n",
    "\n",
    "\n",
    "10.\tWe cannot represent different data types in a print/return statment, it all has to be the same\n",
    "\t\tSolution : 'i have eaten' + str(99) +'burritos'\n",
    "\t\t"
   ]
  },
  {
   "cell_type": "code",
   "execution_count": null,
   "id": "swiss-invalid",
   "metadata": {},
   "outputs": [],
   "source": []
  }
 ],
 "metadata": {
  "kernelspec": {
   "display_name": "Python 3",
   "language": "python",
   "name": "python3"
  },
  "language_info": {
   "codemirror_mode": {
    "name": "ipython",
    "version": 3
   },
   "file_extension": ".py",
   "mimetype": "text/x-python",
   "name": "python",
   "nbconvert_exporter": "python",
   "pygments_lexer": "ipython3",
   "version": "3.7.6"
  }
 },
 "nbformat": 4,
 "nbformat_minor": 5
}
