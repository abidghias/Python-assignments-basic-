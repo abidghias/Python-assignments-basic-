{
 "cells": [
  {
   "cell_type": "raw",
   "id": "electric-smoke",
   "metadata": {},
   "source": [
    "1. PDF file object"
   ]
  },
  {
   "cell_type": "raw",
   "id": "leading-muslim",
   "metadata": {},
   "source": [
    "2. pdfFileObj = open(origFileName, 'rb') --> read binary mode\n",
    "   pdfFileObj = open(origFileName, 'wb') --> write binary mode"
   ]
  },
  {
   "cell_type": "raw",
   "id": "guided-royal",
   "metadata": {},
   "source": [
    "3. \n",
    "\n",
    "    from PyPDF2 import PdfFileReader as R\n",
    "    f=open(\"Path_to_your_PDF_File\",\"rb\")\n",
    "    pdf=R(f) #creating the page object\n",
    "    page_no=5       # I have selected 3rd Page to display its Contents\n",
    "    P_O=pdf.pages[page_no]   # Since Pages starts counting from '0'\n",
    "    print(P_O.extractText()) #extracting the info\n",
    "    f.close() #closing the file"
   ]
  },
  {
   "cell_type": "raw",
   "id": "opposed-richardson",
   "metadata": {},
   "source": [
    "4.\n",
    "    retrives the page number of the given page object\n",
    "    getPageNumber(page)\n",
    "    or\n",
    "    getPage(page)"
   ]
  },
  {
   "cell_type": "raw",
   "id": "employed-dealing",
   "metadata": {},
   "source": [
    "5. \n",
    "    decrypt(password), in this case decrypt(swordfish)\n",
    "    When using an encrypted / secured PDF file with the PDF Standard encryption handler, this function will allow the file to be decrypted. It checks the given password against the document’s user password and owner password, and then stores the resulting decryption key if either password is correct"
   ]
  },
  {
   "cell_type": "raw",
   "id": "recovered-diamond",
   "metadata": {},
   "source": [
    "6. \n",
    "        # creating rotated page object \n",
    "        pageObj = pdfReader.getPage(page) \n",
    "        pageObj.rotateClockwise(rotation) \n",
    "  \n",
    "        # adding rotated page object to pdf writer \n",
    "        pdfWriter.addPage(pageObj)"
   ]
  },
  {
   "cell_type": "raw",
   "id": "expected-diamond",
   "metadata": {},
   "source": [
    "7.   #.Document returns the document object\n",
    "    docx.Document(docx=None)"
   ]
  },
  {
   "cell_type": "raw",
   "id": "involved-framework",
   "metadata": {},
   "source": [
    "8.   Run object -- you group the characters into runs and apply character formatting to the run \n",
    "    Paragraph object -- you group the paragraph/s and apply character formatting to it\n",
    "        \n",
    "    "
   ]
  },
  {
   "cell_type": "raw",
   "id": "lined-discharge",
   "metadata": {},
   "source": [
    "9.    paragraphs\n",
    "A list of Paragraph instances corresponding to the paragraphs in the document, in document order. Note that paragraphs within revision marks such as <w:ins> or <w:del> do not appear in this list."
   ]
  },
  {
   "cell_type": "raw",
   "id": "proper-subdivision",
   "metadata": {},
   "source": [
    "10.    styles object contains all the required styles\n",
    "       Document.styles"
   ]
  },
  {
   "cell_type": "raw",
   "id": "entitled-narrow",
   "metadata": {},
   "source": [
    "11.    True means the property is “on”, False means it is “off”. Conceptually, the None value means “inherit”"
   ]
  },
  {
   "cell_type": "raw",
   "id": "fallen-wayne",
   "metadata": {},
   "source": [
    "12.    save(path_or_stream)\n",
    "Save this document to path_or_stream, which can be either a path to a filesystem location (a string) or a file-like object."
   ]
  },
  {
   "cell_type": "raw",
   "id": "amber-antigua",
   "metadata": {},
   "source": [
    "13.    doc.add_paragraph('Hello there!')"
   ]
  },
  {
   "cell_type": "raw",
   "id": "prerequisite-component",
   "metadata": {},
   "source": [
    "14.    add_heading(text=u'', level=1)\n",
    "Return a heading paragraph newly added to the end of the document.\n",
    "\n",
    "The heading paragraph will contain text and have its paragraph style determined by level. If level is 0, the style is set to Title. If level is 1 (or omitted), Heading 1 is used. Otherwise the style is set to Heading {level}. Raises ValueError if level is outside the range 0-9."
   ]
  }
 ],
 "metadata": {
  "kernelspec": {
   "display_name": "Python 3",
   "language": "python",
   "name": "python3"
  },
  "language_info": {
   "codemirror_mode": {
    "name": "ipython",
    "version": 3
   },
   "file_extension": ".py",
   "mimetype": "text/x-python",
   "name": "python",
   "nbconvert_exporter": "python",
   "pygments_lexer": "ipython3",
   "version": "3.7.6"
  }
 },
 "nbformat": 4,
 "nbformat_minor": 5
}
