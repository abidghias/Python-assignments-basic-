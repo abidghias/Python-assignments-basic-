{
 "cells": [
  {
   "cell_type": "raw",
   "id": "fifth-oliver",
   "metadata": {},
   "source": [
    "1. Excel can perform VBA Coding, functions, formulas and create summaries easily when compared to CSV\n",
    "     With powerful filtering, sorting and search tools you are able to quickly and easily narrow down the criteria that will assist in your decisions."
   ]
  },
  {
   "cell_type": "markdown",
   "id": "heated-davis",
   "metadata": {},
   "source": [
    "2. csvfile"
   ]
  },
  {
   "cell_type": "markdown",
   "id": "expired-detective",
   "metadata": {},
   "source": [
    "3.  ‘r’\tRead (default)\t-- Open a file for read only\n",
    "    ‘w’\tWrite\t        -- Open a file for write only (overwrite)\n",
    "    ‘a’\tAppend\t        -- Open a file for write only (append)\n",
    "    ‘r+’\tRead+Write\t-- Open a file for both reading and writing\n",
    "    ‘x’\tCreate\t        -- Create a new file"
   ]
  },
  {
   "cell_type": "markdown",
   "id": "efficient-forty",
   "metadata": {},
   "source": [
    "4. The writerow() method for Writer objects takes a list argument. Each value in the list is placed in its own cell in the        output CSV file. The return value of writerow() is the number of characters written to the file for that row (including        newline characters)."
   ]
  },
  {
   "cell_type": "markdown",
   "id": "creative-thanks",
   "metadata": {},
   "source": [
    "5.  The delimiter is the character that appears between cells on a row. By default, the delimiter for a CSV file is a comma. \n",
    "     \n",
    "     \n",
    "     \n",
    "    The line terminator is the character that comes at the end of a row. By default, the line terminator is a newline. "
   ]
  },
  {
   "cell_type": "markdown",
   "id": "dependent-jackson",
   "metadata": {},
   "source": [
    "6.   json.loads() & json.load() "
   ]
  },
  {
   "cell_type": "raw",
   "id": "first-possibility",
   "metadata": {},
   "source": [
    "7. json.dumps() "
   ]
  },
  {
   "cell_type": "code",
   "execution_count": null,
   "id": "aggressive-bulletin",
   "metadata": {},
   "outputs": [],
   "source": []
  }
 ],
 "metadata": {
  "kernelspec": {
   "display_name": "Python 3",
   "language": "python",
   "name": "python3"
  },
  "language_info": {
   "codemirror_mode": {
    "name": "ipython",
    "version": 3
   },
   "file_extension": ".py",
   "mimetype": "text/x-python",
   "name": "python",
   "nbconvert_exporter": "python",
   "pygments_lexer": "ipython3",
   "version": "3.7.6"
  }
 },
 "nbformat": 4,
 "nbformat_minor": 5
}
