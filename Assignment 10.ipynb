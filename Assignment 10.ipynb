{
 "cells": [
  {
   "cell_type": "raw",
   "id": "opposite-wisdom",
   "metadata": {},
   "source": [
    "1. While shutil.copy() will copy a single file, \n",
    "    shutil.copytree() will copy an entire folder and every folder and file contained in it."
   ]
  },
  {
   "cell_type": "raw",
   "id": "surface-medicine",
   "metadata": {},
   "source": [
    "2. os.rename(file, destination)\n",
    "    file --> this is the file u want to rename\n",
    "    destination --> this is the desired filename, u can also mention the filepath here"
   ]
  },
  {
   "cell_type": "raw",
   "id": "contained-ridge",
   "metadata": {},
   "source": [
    "3. send2trash lets u recover the files later and does not free up disk space\n",
    "    but shutill methods free up disk space "
   ]
  },
  {
   "cell_type": "raw",
   "id": "colonial-gothic",
   "metadata": {},
   "source": [
    "4. ZipFile.open(name, mode='r')"
   ]
  },
  {
   "cell_type": "raw",
   "id": "incident-carry",
   "metadata": {},
   "source": [
    "5. \n",
    "\n",
    "import os \n",
    "import shutil \n",
    "   \n",
    "\n",
    "path = '/path/to/directory'\n",
    "  \n",
    "  \n",
    "\n",
    "list_ = os.listdir(path) \n",
    "   \n",
    "# This will go through each and every file \n",
    "for file_ in list_: \n",
    "    name, ext = os.path.splitext(file_) \n",
    "  \n",
    "    # This is going to store the extension type \n",
    "    ext = ext[1:] \n",
    "  \n",
    "    # This forces the next iteration, \n",
    "    # if it is the directory \n",
    "    if ext == '': \n",
    "        continue\n",
    "  \n",
    "    # This will move the file to the directory \n",
    "    # where the name 'ext' already exists \n",
    "    if os.path.exists(path+'/'+ext): \n",
    "       shutil.move(path+'/'+file_, path+'/'+ext+'/'+file_) \n",
    "  \n",
    "    # This will create a new directory, \n",
    "    # if the directory does not already exist \n",
    "    else: \n",
    "        os.makedirs(path+'/'+ext) \n",
    "        shutil.move(path+'/'+file_, path+'/'+ext+'/'+file_) "
   ]
  },
  {
   "cell_type": "code",
   "execution_count": null,
   "id": "junior-longitude",
   "metadata": {},
   "outputs": [],
   "source": []
  }
 ],
 "metadata": {
  "kernelspec": {
   "display_name": "Python 3",
   "language": "python",
   "name": "python3"
  },
  "language_info": {
   "codemirror_mode": {
    "name": "ipython",
    "version": 3
   },
   "file_extension": ".py",
   "mimetype": "text/x-python",
   "name": "python",
   "nbconvert_exporter": "python",
   "pygments_lexer": "ipython3",
   "version": "3.7.6"
  }
 },
 "nbformat": 4,
 "nbformat_minor": 5
}
