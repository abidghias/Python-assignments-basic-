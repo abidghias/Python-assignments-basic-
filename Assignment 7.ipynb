{
 "cells": [
  {
   "cell_type": "raw",
   "id": "floral-camel",
   "metadata": {},
   "source": [
    "1. import re"
   ]
  },
  {
   "cell_type": "raw",
   "id": "discrete-tragedy",
   "metadata": {},
   "source": [
    "2. So that backslashes need not be escaped and be considered while extracting the data. Also the entire string is searched and the special characters are ignored\n",
    "         \n",
    "         it is represented as r'\\this is \\n a  raw sentence' so that the new line effect does not occur "
   ]
  },
  {
   "cell_type": "raw",
   "id": "considerable-integral",
   "metadata": {},
   "source": [
    "3. re.search returns the 'match object' or none if matching is unsuccessful"
   ]
  },
  {
   "cell_type": "raw",
   "id": "micro-devon",
   "metadata": {},
   "source": [
    "4. After importing the re module \n",
    "\n",
    "x = re.findall(\"the_pattern\", source)\n",
    "   In the below example, () is the place from where the real extraction of the elements occur"
   ]
  },
  {
   "cell_type": "code",
   "execution_count": 28,
   "id": "golden-istanbul",
   "metadata": {},
   "outputs": [],
   "source": [
    "#4\n",
    "import re\n",
    "x = 'From abidghias89@gmail.com Sat July'"
   ]
  },
  {
   "cell_type": "code",
   "execution_count": 30,
   "id": "controlled-treat",
   "metadata": {},
   "outputs": [
    {
     "data": {
      "text/plain": [
       "['abidghias89@gmail.com']"
      ]
     },
     "execution_count": 30,
     "metadata": {},
     "output_type": "execute_result"
    }
   ],
   "source": [
    "re.findall('^From (\\S+@\\S+)',x)\n",
    "#check if statements contains From, then extract a term that contains @ symbol followed by \n",
    "#2 non-blank characters at either end of the @ symbol "
   ]
  },
  {
   "cell_type": "code",
   "execution_count": 116,
   "id": "spatial-teddy",
   "metadata": {},
   "outputs": [
    {
     "name": "stdout",
     "output_type": "stream",
     "text": [
      "010-012-1998\n"
     ]
    }
   ],
   "source": [
    "txt = \"20 and 10 are numbers in the format 010-012-1998\"\n",
    "\n",
    "#Check if the string contains any digits (numbers from 0-9):\n",
    "\n",
    "pattern = re.compile(\"(\\d\\d\\d)-(\\d\\d\\d-\\d\\d\\d\\d)\")\n",
    "matches = pattern.finditer(txt)\n",
    "\n",
    "#Group Zero looks for the entire matched pattern in the expression\n",
    "\n",
    "for match in matches:\n",
    "    print(match.group(0))\n",
    "\n",
    "#Group 1 matches the first paranthesis which in this case is the 3 digits\n",
    "for match in matches:\n",
    "    print(match.group(1))\n",
    "\n",
    "#Group 2 matches the second group of digits in the pattern which is 3 digits - 4 digits\n",
    "\n",
    "for match in matches:\n",
    "    print(match.group(2))\n"
   ]
  },
  {
   "cell_type": "markdown",
   "id": "willing-relation",
   "metadata": {},
   "source": [
    "6. Whenever we want to extract a symbol which is part of the regex we use the escape charater '\\'"
   ]
  },
  {
   "cell_type": "markdown",
   "id": "identified-learning",
   "metadata": {},
   "source": [
    "7. re.findall returns a string list because it returns the matched pattern in the form of a list "
   ]
  },
  {
   "cell_type": "code",
   "execution_count": 31,
   "id": "efficient-defensive",
   "metadata": {},
   "outputs": [
    {
     "name": "stdout",
     "output_type": "stream",
     "text": [
      "['football', 'cricket']\n"
     ]
    }
   ],
   "source": [
    "#8\n",
    "txt = \"I love football and cricket\"\n",
    "\n",
    "#Check if the string contains either \"falls\" or \"stays\":\n",
    "\n",
    "x = re.findall(\"football|cricket\", txt)\n",
    "\n",
    "print(x)"
   ]
  },
  {
   "cell_type": "markdown",
   "id": "connected-review",
   "metadata": {},
   "source": [
    "8. it returns one of the 2 strings that r matches or both in this case"
   ]
  },
  {
   "cell_type": "markdown",
   "id": "corrected-council",
   "metadata": {},
   "source": [
    "9. This is a non-greedy method by which it returns the earlier of the 2 strings that r to be matched\n"
   ]
  },
  {
   "cell_type": "code",
   "execution_count": 35,
   "id": "amber-composition",
   "metadata": {},
   "outputs": [
    {
     "name": "stdout",
     "output_type": "stream",
     "text": [
      "['From:']\n",
      "['From: using the:']\n"
     ]
    }
   ],
   "source": [
    "x = 'From: using the: character'\n",
    "nonGreedy =re.findall('^F.+?:',x)\n",
    "print(nonGreedy)\n",
    "greedy = re.findall('^F.+:',x)\n",
    "print(greedy)"
   ]
  },
  {
   "cell_type": "markdown",
   "id": "ready-battlefield",
   "metadata": {},
   "source": [
    "So here instead of capturing the second ':', it does the first one when ? is used"
   ]
  },
  {
   "cell_type": "markdown",
   "id": "atomic-chemical",
   "metadata": {},
   "source": [
    "10. \\* --> zero or more repetitions\n",
    "    "
   ]
  },
  {
   "cell_type": "markdown",
   "id": "fleet-birthday",
   "metadata": {},
   "source": [
    "\\+ --> at least 1 or more"
   ]
  },
  {
   "cell_type": "code",
   "execution_count": 46,
   "id": "future-operator",
   "metadata": {},
   "outputs": [
    {
     "data": {
      "text/plain": [
       "['alllll']"
      ]
     },
     "execution_count": 46,
     "metadata": {},
     "output_type": "execute_result"
    }
   ],
   "source": [
    "#11\n",
    "txt = \"The rain in Spain alllll mainly in the plain!\"\n",
    "\n",
    "#Check if the string contains \"a\" followed by exactly four or five\"l\" characters:\n",
    "\n",
    "#{start range, end range} , so {3,5} means anywhere between 3 to 5 characters of a particular character\n",
    "\n",
    "re.findall(\"al{4,5}\", txt)"
   ]
  },
  {
   "cell_type": "markdown",
   "id": "adapted-polymer",
   "metadata": {},
   "source": [
    "12.\n",
    "\n",
    "\\d  Returns a match where the string contains digits (numbers from 0-9)\n",
    "\n",
    "\\s\tReturns a match where the string contains a white space character\t\t\n",
    "\t\n",
    "\\w\tReturns a match where the string contains any word characters "
   ]
  },
  {
   "cell_type": "markdown",
   "id": "ignored-imaging",
   "metadata": {},
   "source": [
    "13. \n",
    "\n",
    "\n",
    "\\D  Returns a match where the string DOES NOT contain digits\t\n",
    "\t\n",
    "\\S\tReturns a match where the string DOES NOT contain a white space character\t\n",
    "\t\n",
    "\\W\tReturns a match where the string DOES NOT contain any word characters"
   ]
  },
  {
   "cell_type": "markdown",
   "id": "motivated-gazette",
   "metadata": {},
   "source": [
    "\n",
    "14.\n",
    "\n",
    ". means any character \n",
    "\\* means zero or more occurences \n",
    "and ? means non-greedy method"
   ]
  },
  {
   "cell_type": "code",
   "execution_count": 53,
   "id": "introductory-wrestling",
   "metadata": {},
   "outputs": [
    {
     "data": {
      "text/plain": [
       "['w', 'o', 'r', 'd', '1', '9', '8']"
      ]
     },
     "execution_count": 53,
     "metadata": {},
     "output_type": "execute_result"
    }
   ],
   "source": [
    "#15\n",
    "txt = \"word 198!\"\n",
    "\n",
    "re.findall(\"[a-z0-9]\", txt)"
   ]
  },
  {
   "cell_type": "code",
   "execution_count": 125,
   "id": "elementary-arrow",
   "metadata": {},
   "outputs": [
    {
     "name": "stdout",
     "output_type": "stream",
     "text": [
      "['Test', 'TEST', 'test']\n",
      "<re.Match object; span=(12, 16), match='Test'>\n"
     ]
    }
   ],
   "source": [
    "#16\n",
    "s = 'This is one Test, another TEST, and another test.'\n",
    "print(re.findall('(?i)test',s))\n",
    "\n",
    "#OR \n",
    "pattern = re.compile('test',re.IGNORECASE)\n",
    "matches = pattern.search(s)\n",
    "print(matches)\n",
    "#including (?i) makes things easier and ignores case sensitivity"
   ]
  },
  {
   "cell_type": "markdown",
   "id": "minute-creature",
   "metadata": {},
   "source": [
    "17. dot character matches any 1 character in the expression and is generally not used alone\n",
    "   \n",
    "   \n",
    "   re.DOTALL affects what the . pattern can match.\n",
    "\n",
    "Without the switch, . matches any character except a newline. With the switch, newlines are matched as well"
   ]
  },
  {
   "cell_type": "markdown",
   "id": "prompt-manitoba",
   "metadata": {},
   "source": [
    "18. re.sub returns the string obtained by replacing the leftmost occurrences of pattern in string by the replacement repl."
   ]
  },
  {
   "cell_type": "code",
   "execution_count": 55,
   "id": "narrative-european",
   "metadata": {},
   "outputs": [
    {
     "name": "stdout",
     "output_type": "stream",
     "text": [
      "abc abc abc abc\n"
     ]
    }
   ],
   "source": [
    "#18 \n",
    "string = \"abc xxx abc yyy\"\n",
    "new_string = re.sub(r\"xxx|yyy\", \"abc\", string)\n",
    "# Replace \"xxx\" or \"yyy\" with \"abc\"\n",
    "\n",
    "print(new_string)\n",
    "#in the question it will match with all the numbers in the given tuple "
   ]
  },
  {
   "cell_type": "markdown",
   "id": "fatty-funeral",
   "metadata": {},
   "source": [
    "19. re.verbose allows you to write regular expressions that look nicer and are more readable by allowing you to visually separate logical sections of the pattern and add comments."
   ]
  },
  {
   "cell_type": "code",
   "execution_count": 66,
   "id": "broke-corpus",
   "metadata": {},
   "outputs": [
    {
     "data": {
      "text/plain": [
       "[',435', ',321']"
      ]
     },
     "execution_count": 66,
     "metadata": {},
     "output_type": "execute_result"
    }
   ],
   "source": [
    "#20\n",
    "x = '43,435,321  43,23'\n",
    "re.findall(',[0-9]{3}',x)"
   ]
  },
  {
   "cell_type": "code",
   "execution_count": 105,
   "id": "equivalent-abortion",
   "metadata": {},
   "outputs": [
    {
     "data": {
      "text/plain": [
       "['Hero Watanabe', 'Abid Watanabe']"
      ]
     },
     "execution_count": 105,
     "metadata": {},
     "output_type": "execute_result"
    }
   ],
   "source": [
    "#21\n",
    "x = '''Hero Watanabe \n",
    "       hero watanabe\n",
    "       Abid watanabe\n",
    "       Abid Watanabe\n",
    "       '''\n",
    "re.findall('[A-Z].* Watanabe',x)"
   ]
  },
  {
   "cell_type": "code",
   "execution_count": 107,
   "id": "beneficial-forwarding",
   "metadata": {},
   "outputs": [
    {
     "data": {
      "text/plain": [
       "[]"
      ]
     },
     "execution_count": 107,
     "metadata": {},
     "output_type": "execute_result"
    }
   ],
   "source": [
    "#22\n",
    "re.findall('([Alice|Bob|Carol]+[eats|pets|throws]+[apples|cats|baseballs]\\.)',x)"
   ]
  },
  {
   "cell_type": "code",
   "execution_count": null,
   "id": "planned-semiconductor",
   "metadata": {},
   "outputs": [],
   "source": []
  },
  {
   "cell_type": "code",
   "execution_count": null,
   "id": "statistical-columbus",
   "metadata": {},
   "outputs": [],
   "source": []
  }
 ],
 "metadata": {
  "kernelspec": {
   "display_name": "Python 3",
   "language": "python",
   "name": "python3"
  },
  "language_info": {
   "codemirror_mode": {
    "name": "ipython",
    "version": 3
   },
   "file_extension": ".py",
   "mimetype": "text/x-python",
   "name": "python",
   "nbconvert_exporter": "python",
   "pygments_lexer": "ipython3",
   "version": "3.7.6"
  }
 },
 "nbformat": 4,
 "nbformat_minor": 5
}
