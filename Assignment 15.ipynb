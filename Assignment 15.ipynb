{
 "cells": [
  {
   "cell_type": "code",
   "execution_count": 6,
   "id": "innovative-detection",
   "metadata": {},
   "outputs": [
    {
     "name": "stdout",
     "output_type": "stream",
     "text": [
      "Enter the number of minutes60\n",
      "Enter the number of hours23\n",
      "Total number of seconds is 86400\n"
     ]
    }
   ],
   "source": [
    "#1 \n",
    "x = int(input('Enter the number of minutes'))\n",
    "seconds_per_min = 60*x\n",
    "y = int(input(\"Enter the number of hours\"))\n",
    "min_in_hour = y * 60 * 60\n",
    "\n",
    "#2\n",
    "seconds_per_hour = seconds_per_min+min_in_hour\n",
    "print(\"Total number of seconds is {}\".format(seconds_per_hour))\n"
   ]
  },
  {
   "cell_type": "code",
   "execution_count": 9,
   "id": "familiar-albania",
   "metadata": {},
   "outputs": [
    {
     "name": "stdout",
     "output_type": "stream",
     "text": [
      "Total number of seconds is 86400\n"
     ]
    }
   ],
   "source": [
    "#3\n",
    "seconds_per_min = 60*60\n",
    "\n",
    "min_in_hour = y * 60 * 60\n",
    "\n",
    "seconds_in_a_day = seconds_per_min+min_in_hour\n",
    "print(\"Total number of seconds is {}\".format(seconds_per_hour))\n",
    "\n",
    "\n"
   ]
  },
  {
   "cell_type": "code",
   "execution_count": 10,
   "id": "perceived-cooperative",
   "metadata": {},
   "outputs": [
    {
     "name": "stdout",
     "output_type": "stream",
     "text": [
      "Total number of seconds is 86400\n"
     ]
    }
   ],
   "source": [
    "#4\n",
    "seconds_per_min = 60*60\n",
    "\n",
    "min_in_hour = y * 60 * 60\n",
    "\n",
    "\n",
    "seconds_per_day = seconds_per_min+min_in_hour\n",
    "print(\"Total number of seconds is {}\".format(seconds_per_hour))\n",
    "\n",
    "\n"
   ]
  },
  {
   "cell_type": "raw",
   "id": "nutritional-barrier",
   "metadata": {},
   "source": [
    "Subtract seconds per hour from seconds per day. Floating-point (/) division is the way to go."
   ]
  },
  {
   "cell_type": "code",
   "execution_count": 9,
   "id": "statutory-advancement",
   "metadata": {},
   "outputs": [
    {
     "name": "stdout",
     "output_type": "stream",
     "text": [
      "Enter the number of hour 23\n",
      "Enter the number of day 1\n",
      "Total number of seconds is 0.0\n"
     ]
    }
   ],
   "source": [
    "#5\n",
    "x = int(input('Enter the number of hour '))\n",
    "seconds_per_hour = x * 60 * 60 \n",
    "y = int(input(\"Enter the number of day \"))\n",
    "seconds_in_a_day = y * 60 * 60 * 24\n",
    "\n",
    "\n",
    "division = float(seconds_in_a_day / seconds_per_hour)\n",
    "print(\"Total number of seconds is {}\".format(difference))\n"
   ]
  },
  {
   "cell_type": "code",
   "execution_count": 8,
   "id": "young-transportation",
   "metadata": {},
   "outputs": [
    {
     "name": "stdout",
     "output_type": "stream",
     "text": [
      "Total number of seconds is 1\n"
     ]
    }
   ],
   "source": [
    "#6, floor divison returns integer value\n",
    "f_division = (seconds_in_a_day // seconds_per_hour)\n",
    "print(\"Total number of seconds is {}\".format(f_division))"
   ]
  },
  {
   "cell_type": "code",
   "execution_count": 12,
   "id": "numeric-reporter",
   "metadata": {},
   "outputs": [
    {
     "name": "stdout",
     "output_type": "stream",
     "text": [
      "7.5\n",
      "7\n"
     ]
    }
   ],
   "source": [
    "print(15/2)   #normal division\n",
    "print(15//2)  #floor division returns the nearest integer value of the division, in this case 15/2 gives 7.5 but output was 7"
   ]
  },
  {
   "cell_type": "code",
   "execution_count": 17,
   "id": "advised-athens",
   "metadata": {},
   "outputs": [
    {
     "data": {
      "text/plain": [
       "[2, 3, 5, 7, 11, 13, 17, 19, 23, 29, 31, 37, 41, 43, 47, 53, 59, 61, 67]"
      ]
     },
     "execution_count": 17,
     "metadata": {},
     "output_type": "execute_result"
    }
   ],
   "source": [
    "#7\n",
    "def prime(n):\n",
    "    # Initialize a list\n",
    "    primes = []\n",
    "    for x in range(2, n + 1):\n",
    "        # Assume number is prime until shown it is not. \n",
    "        isPrime = True\n",
    "        for num in range(2, x):\n",
    "            if x % num == 0:\n",
    "                isPrime = False\n",
    "        #Here we are checking if the condition is still true as initially declared\n",
    "        if isPrime:\n",
    "            primes.append(x)\n",
    "    return(primes)\n",
    "\n",
    "approach1(70)"
   ]
  },
  {
   "cell_type": "code",
   "execution_count": null,
   "id": "neither-england",
   "metadata": {},
   "outputs": [],
   "source": []
  }
 ],
 "metadata": {
  "kernelspec": {
   "display_name": "Python 3",
   "language": "python",
   "name": "python3"
  },
  "language_info": {
   "codemirror_mode": {
    "name": "ipython",
    "version": 3
   },
   "file_extension": ".py",
   "mimetype": "text/x-python",
   "name": "python",
   "nbconvert_exporter": "python",
   "pygments_lexer": "ipython3",
   "version": "3.7.6"
  }
 },
 "nbformat": 4,
 "nbformat_minor": 5
}
