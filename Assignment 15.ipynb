{
 "cells": [
  {
   "cell_type": "markdown",
   "id": "endangered-vision",
   "metadata": {},
   "source": [
    "a = 6\n",
    "if (b := a ** 2) > 0: \n",
    "    print(f'The square of {a} is {b}.') # The square of 6 is 36."
   ]
  },
  {
   "cell_type": "markdown",
   "id": "mounted-pocket",
   "metadata": {},
   "source": [
    "The above is a typical example of a walrus operator where u can assign values inside expressions while it is being executed"
   ]
  },
  {
   "cell_type": "code",
   "execution_count": 8,
   "id": "favorite-routine",
   "metadata": {},
   "outputs": [
    {
     "ename": "SyntaxError",
     "evalue": "'continue' not supported inside 'finally' clause (<ipython-input-8-0bc18828de3e>, line 9)",
     "output_type": "error",
     "traceback": [
      "\u001b[1;36m  File \u001b[1;32m\"<ipython-input-8-0bc18828de3e>\"\u001b[1;36m, line \u001b[1;32m9\u001b[0m\n\u001b[1;33m    # Python <= 3.7\u001b[0m\n\u001b[1;37m                   ^\u001b[0m\n\u001b[1;31mSyntaxError\u001b[0m\u001b[1;31m:\u001b[0m 'continue' not supported inside 'finally' clause\n"
     ]
    }
   ],
   "source": [
    "\n",
    "for i in range(2):\n",
    "    try:\n",
    "        print(i)\n",
    "    finally:\n",
    "        print('A sentence.')\n",
    "        continue\n",
    "        print('This never shows.')\n",
    "\n",
    "# Python <= 3.7\n",
    "#>> SyntaxError: 'continue' not supported inside 'finally' clause\n",
    "  \n",
    "# Python 3.8\n",
    "##>> 0\n",
    "#   A sentence.\n",
    "##   1\n",
    " #  A sentence."
   ]
  },
  {
   "cell_type": "markdown",
   "id": "aquatic-secretariat",
   "metadata": {},
   "source": [
    "But in python 3.8 this is allowed"
   ]
  },
  {
   "cell_type": "markdown",
   "id": "through-popularity",
   "metadata": {},
   "source": [
    "monkey patching is making changes to a module or class while the program is running"
   ]
  },
  {
   "cell_type": "code",
   "execution_count": 22,
   "id": "private-richardson",
   "metadata": {},
   "outputs": [
    {
     "ename": "ModuleNotFoundError",
     "evalue": "No module named 'monk'",
     "output_type": "error",
     "traceback": [
      "\u001b[1;31m---------------------------------------------------------------------------\u001b[0m",
      "\u001b[1;31mModuleNotFoundError\u001b[0m                       Traceback (most recent call last)",
      "\u001b[1;32m<ipython-input-22-be812052306f>\u001b[0m in \u001b[0;36m<module>\u001b[1;34m\u001b[0m\n\u001b[1;32m----> 1\u001b[1;33m \u001b[1;32mimport\u001b[0m \u001b[0mmonk\u001b[0m\u001b[1;33m\u001b[0m\u001b[1;33m\u001b[0m\u001b[0m\n\u001b[0m\u001b[0;32m      2\u001b[0m \u001b[1;32mdef\u001b[0m \u001b[0mmonkey_f\u001b[0m\u001b[1;33m(\u001b[0m\u001b[0mself\u001b[0m\u001b[1;33m)\u001b[0m\u001b[1;33m:\u001b[0m\u001b[1;33m\u001b[0m\u001b[1;33m\u001b[0m\u001b[0m\n\u001b[0;32m      3\u001b[0m      \u001b[0mprint\u001b[0m \u001b[1;33m(\u001b[0m\u001b[1;34m\"monkey_f() is being called\"\u001b[0m\u001b[1;33m)\u001b[0m\u001b[1;33m\u001b[0m\u001b[1;33m\u001b[0m\u001b[0m\n\u001b[0;32m      4\u001b[0m \u001b[1;33m\u001b[0m\u001b[0m\n\u001b[0;32m      5\u001b[0m \u001b[1;31m# replacing address of \"func\" with \"monkey_f\"\u001b[0m\u001b[1;33m\u001b[0m\u001b[1;33m\u001b[0m\u001b[1;33m\u001b[0m\u001b[0m\n",
      "\u001b[1;31mModuleNotFoundError\u001b[0m: No module named 'monk'"
     ]
    }
   ],
   "source": [
    "import monk\n",
    "def monkey_f(self):\n",
    "     print (\"monkey_f() is being called\")\n",
    "   \n",
    "# replacing address of \"func\" with \"monkey_f\"\n",
    "monk.A.func = monkey_f\n",
    "obj = monk.A()\n",
    "  \n",
    "# calling function \"func\" whose address got replaced\n",
    "# with function \"monkey_f()\"\n",
    "obj.func()"
   ]
  },
  {
   "cell_type": "markdown",
   "id": "elegant-pursuit",
   "metadata": {},
   "source": [
    "any changes made on elements within nested objects in b will appear in a if b is a shallow copy of a.\n",
    "If you want to copy a nested object without any bindings between their elements whatsoever, you need a deep copy of a by b = copy.deepcopy(a). A deep copy creates a new object and recursively creates copies of nested objects in the original elements.\n",
    "In short, deep copy copies everything without any bindings\n",
    "\n"
   ]
  },
  {
   "cell_type": "code",
   "execution_count": 23,
   "id": "overhead-earth",
   "metadata": {},
   "outputs": [
    {
     "name": "stdout",
     "output_type": "stream",
     "text": [
      "False\n",
      "[[0, 1], [2, 3]] [[0, 1], 100]\n",
      "[[-999, 1], [2, 3]] [[-999, 1], 100]\n",
      "True\n"
     ]
    }
   ],
   "source": [
    "import copy\n",
    "\n",
    "a = [[0,1],[2,3]]\n",
    "b = copy.copy(a)\n",
    "\n",
    "print(id(a)==id(b))\n",
    "# False\n",
    "\n",
    "b[1] = 100\n",
    "print(a,b)\n",
    "# [[0, 1], [2, 3]] [[0, 1], 100]\n",
    "\n",
    "b[0][0] = -999\n",
    "print(a,b)\n",
    "# [[-999, 1], [2, 3]] [[-999, 1], 100]\n",
    "print(id(a[0]) == id(b[0]))\n",
    "# True"
   ]
  },
  {
   "cell_type": "markdown",
   "id": "taken-vector",
   "metadata": {},
   "source": [
    "79 characters"
   ]
  },
  {
   "cell_type": "code",
   "execution_count": 25,
   "id": "joint-cedar",
   "metadata": {},
   "outputs": [],
   "source": [
    "my_list = [1, 3, 5, 9, 2, 6]\n",
    "filtered_gen = (item for item in my_list if item > 3)"
   ]
  },
  {
   "cell_type": "code",
   "execution_count": 26,
   "id": "knowing-sacrifice",
   "metadata": {},
   "outputs": [
    {
     "data": {
      "text/plain": [
       "<generator object <genexpr> at 0x0000024ABED063C8>"
      ]
     },
     "execution_count": 26,
     "metadata": {},
     "output_type": "execute_result"
    }
   ],
   "source": [
    "filtered_gen"
   ]
  },
  {
   "cell_type": "markdown",
   "id": "continuous-utilization",
   "metadata": {},
   "source": [
    "Same as list comprehension but it returns a iterator object "
   ]
  },
  {
   "cell_type": "markdown",
   "id": "steady-parcel",
   "metadata": {},
   "source": [
    "If you need more than one value, you can also use a generator expression and grab a few at a time. If you need all the values before your program proceeds, use a list comprehension instead.\n",
    "\n"
   ]
  },
  {
   "cell_type": "code",
   "execution_count": null,
   "id": "fewer-arrival",
   "metadata": {},
   "outputs": [],
   "source": []
  }
 ],
 "metadata": {
  "kernelspec": {
   "display_name": "Python 3",
   "language": "python",
   "name": "python3"
  },
  "language_info": {
   "codemirror_mode": {
    "name": "ipython",
    "version": 3
   },
   "file_extension": ".py",
   "mimetype": "text/x-python",
   "name": "python",
   "nbconvert_exporter": "python",
   "pygments_lexer": "ipython3",
   "version": "3.7.6"
  }
 },
 "nbformat": 4,
 "nbformat_minor": 5
}
