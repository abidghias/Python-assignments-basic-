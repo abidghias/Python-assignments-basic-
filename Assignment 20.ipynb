{
 "cells": [
  {
   "cell_type": "code",
   "execution_count": 5,
   "id": "cooperative-madness",
   "metadata": {},
   "outputs": [],
   "source": [
    "#1\n",
    "test1 = 'This is a test of the emergency text system'\n",
    "file = open(r\"test.txt\",\"w+\")\n",
    "#writes but to reflect we must close \n",
    "file.write(test1)\n",
    "#commits and closes\n",
    "file.close()"
   ]
  },
  {
   "cell_type": "code",
   "execution_count": 11,
   "id": "narrative-encounter",
   "metadata": {},
   "outputs": [],
   "source": [
    "#2\n",
    "file1 = open(r\"test.txt\",\"r\")\n"
   ]
  },
  {
   "cell_type": "code",
   "execution_count": 12,
   "id": "heavy-papua",
   "metadata": {},
   "outputs": [
    {
     "name": "stdout",
     "output_type": "stream",
     "text": [
      "This is a test of the emergency text system\n"
     ]
    }
   ],
   "source": [
    "test2= file1.read()\n",
    "print(test2)\n",
    "file1.close()\n",
    "#no there is no difference"
   ]
  },
  {
   "cell_type": "code",
   "execution_count": 21,
   "id": "prompt-substance",
   "metadata": {},
   "outputs": [],
   "source": [
    "#3\n",
    "import csv\n",
    "with open(\"book.csv\",'w',encoding = 'utf-8') as f:\n",
    "    f.write(\"Lynne Truss,'Eats, Shoots, and Leaves' author, book J R R Tolkien,'The Hobbit' Lynne Truss, 'Eats,Shoots, and Leaves'\")\n",
    "    spamreader = csv.reader(f, delimiter=',')\n",
    "    "
   ]
  },
  {
   "cell_type": "code",
   "execution_count": 4,
   "id": "earlier-symposium",
   "metadata": {},
   "outputs": [
    {
     "name": "stdout",
     "output_type": "stream",
     "text": [
      "SN, Name, Contribution\n",
      "1, Linus Torvalds, Linux Kernel\n",
      "2, Tim Berners-Lee, World Wide Web\n",
      "3, Guido van Rossum, Python Programming\n"
     ]
    }
   ],
   "source": [
    "#4\n",
    "import csv\n",
    "with open('book.csv', newline='') as csvfile:\n",
    "    spamreader = csv.reader(csvfile, delimiter=',', quotechar='.')\n",
    "    for row in spamreader:\n",
    "        print(', '.join(row))"
   ]
  },
  {
   "cell_type": "code",
   "execution_count": 6,
   "id": "extra-sydney",
   "metadata": {},
   "outputs": [
    {
     "name": "stdout",
     "output_type": "stream",
     "text": [
      "{'Lynne Truss': \"'The Hobbit' Lynne Truss\", \"'Eats\": \" 'Eats\", ' Shoots': 'Shoots', \" and Leaves' author\": \" and Leaves'\", ' book J R R Tolkien': None, '': None}\n"
     ]
    }
   ],
   "source": [
    "import csv\n",
    "with open(\"book.csv\", 'r') as file:\n",
    "    csv_file = csv.DictReader(file)\n",
    "    for row in csv_file:\n",
    "        print(dict(row))\n",
    "#it includes the commas as well as extra"
   ]
  },
  {
   "cell_type": "code",
   "execution_count": 32,
   "id": "comparative-battery",
   "metadata": {},
   "outputs": [],
   "source": [
    "#5\n",
    "persons = [('title','writer' , 'year' ),\n",
    "('The Weirdstone of Brisingamen','Alan Garner', 1960),\n",
    "('Perdido Street Station','China Miéville', 2000 ),\n",
    "('Terry Pratchett','Terry Pratchett',2005),\n",
    "('The Spellman Files','Lisa Lutz',2007),\n",
    "('Small Gods' ,'Terry Pratchett', 1992)]\n",
    "\n",
    "csvfile=open('books.csv','w',encoding = 'utf-8', newline='')\n",
    "obj=csv.writer(csvfile)\n",
    "for person in persons:\n",
    "    obj.writerow(person)\n",
    "csvfile.close()\n",
    "    "
   ]
  },
  {
   "cell_type": "code",
   "execution_count": 16,
   "id": "sunrise-lebanon",
   "metadata": {},
   "outputs": [
    {
     "data": {
      "text/plain": [
       "<sqlite3.Cursor at 0x2529b1f3c00>"
      ]
     },
     "execution_count": 16,
     "metadata": {},
     "output_type": "execute_result"
    }
   ],
   "source": [
    "#6\n",
    "import sqlite3\n",
    "#connecting with the database.\n",
    "db = sqlite3.connect(\"books.db\")\n",
    "# Drop table if it already exist using execute() method.\n",
    "db.execute(\"create table books(title int, author text, year int)\")"
   ]
  },
  {
   "cell_type": "code",
   "execution_count": 25,
   "id": "smoking-milwaukee",
   "metadata": {},
   "outputs": [
    {
     "name": "stdout",
     "output_type": "stream",
     "text": [
      "[('title', 'writer', 'year'), ('The Weirdstone of Brisingamen', 'Alan Garner', 1960), ('Perdido Street Station', 'China MiÃ©ville', 2000), ('Terry Pratchett', 'Terry Pratchett', 2005), ('The Spellman Files', 'Lisa Lutz', 2007), ('Small Gods', 'Terry Pratchett', 1992), ('title', 'writer', 'year'), ('The Weirdstone of Brisingamen', 'Alan Garner', 1960), ('Perdido Street Station', 'China MiÃ©ville', 2000), ('Terry Pratchett', 'Terry Pratchett', 2005), ('The Spellman Files', 'Lisa Lutz', 2007), ('Small Gods', 'Terry Pratchett', 1992)]\n"
     ]
    }
   ],
   "source": [
    "#7\n",
    "cur = db.cursor()\n",
    "\n",
    "a_file = open(\"books.csv\")\n",
    "rows = csv.reader(a_file)\n",
    "cur.executemany(\"INSERT INTO books VALUES (?,?, ?)\", rows)\n",
    "\n",
    "cur.execute(\"SELECT * FROM books\")\n",
    "print(cur.fetchall())\n",
    "\n",
    "db.commit()\n",
    "db.close()"
   ]
  },
  {
   "cell_type": "code",
   "execution_count": 26,
   "id": "legal-salad",
   "metadata": {},
   "outputs": [],
   "source": [
    "db = sqlite3.connect(\"books.db\")"
   ]
  },
  {
   "cell_type": "code",
   "execution_count": 34,
   "id": "extended-fairy",
   "metadata": {},
   "outputs": [
    {
     "name": "stdout",
     "output_type": "stream",
     "text": [
      "('Perdido Street Station', 'China MiÃ©ville', 2000)\n",
      "('Perdido Street Station', 'China MiÃ©ville', 2000)\n",
      "('Small Gods', 'Terry Pratchett', 1992)\n",
      "('Small Gods', 'Terry Pratchett', 1992)\n",
      "('Terry Pratchett', 'Terry Pratchett', 2005)\n",
      "('Terry Pratchett', 'Terry Pratchett', 2005)\n",
      "('The Spellman Files', 'Lisa Lutz', 2007)\n",
      "('The Spellman Files', 'Lisa Lutz', 2007)\n",
      "('The Weirdstone of Brisingamen', 'Alan Garner', 1960)\n",
      "('The Weirdstone of Brisingamen', 'Alan Garner', 1960)\n",
      "('title', 'writer', 'year')\n",
      "('title', 'writer', 'year')\n"
     ]
    }
   ],
   "source": [
    "#8\n",
    "result = db.execute(\"select * from books order by title asc\")\n",
    "for row in result:\n",
    "    print(row)"
   ]
  },
  {
   "cell_type": "code",
   "execution_count": 33,
   "id": "organic-venue",
   "metadata": {},
   "outputs": [
    {
     "name": "stdout",
     "output_type": "stream",
     "text": [
      "('The Weirdstone of Brisingamen', 'Alan Garner', 1960)\n",
      "('The Weirdstone of Brisingamen', 'Alan Garner', 1960)\n",
      "('Small Gods', 'Terry Pratchett', 1992)\n",
      "('Small Gods', 'Terry Pratchett', 1992)\n",
      "('Perdido Street Station', 'China MiÃ©ville', 2000)\n",
      "('Perdido Street Station', 'China MiÃ©ville', 2000)\n",
      "('Terry Pratchett', 'Terry Pratchett', 2005)\n",
      "('Terry Pratchett', 'Terry Pratchett', 2005)\n",
      "('The Spellman Files', 'Lisa Lutz', 2007)\n",
      "('The Spellman Files', 'Lisa Lutz', 2007)\n",
      "('title', 'writer', 'year')\n",
      "('title', 'writer', 'year')\n"
     ]
    }
   ],
   "source": [
    "#9\n",
    "result = db.execute(\"select * from books order by year\")\n",
    "for row in result:\n",
    "    print(row)"
   ]
  },
  {
   "cell_type": "code",
   "execution_count": 8,
   "id": "capable-crowd",
   "metadata": {},
   "outputs": [
    {
     "data": {
      "text/html": [
       "<div>\n",
       "<style scoped>\n",
       "    .dataframe tbody tr th:only-of-type {\n",
       "        vertical-align: middle;\n",
       "    }\n",
       "\n",
       "    .dataframe tbody tr th {\n",
       "        vertical-align: top;\n",
       "    }\n",
       "\n",
       "    .dataframe thead th {\n",
       "        text-align: right;\n",
       "    }\n",
       "</style>\n",
       "<table border=\"1\" class=\"dataframe\">\n",
       "  <thead>\n",
       "    <tr style=\"text-align: right;\">\n",
       "      <th></th>\n",
       "      <th>title</th>\n",
       "      <th>author</th>\n",
       "      <th>year</th>\n",
       "    </tr>\n",
       "  </thead>\n",
       "  <tbody>\n",
       "    <tr>\n",
       "      <th>0</th>\n",
       "      <td>title</td>\n",
       "      <td>writer</td>\n",
       "      <td>year</td>\n",
       "    </tr>\n",
       "    <tr>\n",
       "      <th>1</th>\n",
       "      <td>The Weirdstone of Brisingamen</td>\n",
       "      <td>Alan Garner</td>\n",
       "      <td>1960</td>\n",
       "    </tr>\n",
       "    <tr>\n",
       "      <th>2</th>\n",
       "      <td>Perdido Street Station</td>\n",
       "      <td>China MiÃ©ville</td>\n",
       "      <td>2000</td>\n",
       "    </tr>\n",
       "    <tr>\n",
       "      <th>3</th>\n",
       "      <td>Terry Pratchett</td>\n",
       "      <td>Terry Pratchett</td>\n",
       "      <td>2005</td>\n",
       "    </tr>\n",
       "    <tr>\n",
       "      <th>4</th>\n",
       "      <td>The Spellman Files</td>\n",
       "      <td>Lisa Lutz</td>\n",
       "      <td>2007</td>\n",
       "    </tr>\n",
       "    <tr>\n",
       "      <th>5</th>\n",
       "      <td>Small Gods</td>\n",
       "      <td>Terry Pratchett</td>\n",
       "      <td>1992</td>\n",
       "    </tr>\n",
       "    <tr>\n",
       "      <th>6</th>\n",
       "      <td>title</td>\n",
       "      <td>writer</td>\n",
       "      <td>year</td>\n",
       "    </tr>\n",
       "    <tr>\n",
       "      <th>7</th>\n",
       "      <td>The Weirdstone of Brisingamen</td>\n",
       "      <td>Alan Garner</td>\n",
       "      <td>1960</td>\n",
       "    </tr>\n",
       "    <tr>\n",
       "      <th>8</th>\n",
       "      <td>Perdido Street Station</td>\n",
       "      <td>China MiÃ©ville</td>\n",
       "      <td>2000</td>\n",
       "    </tr>\n",
       "    <tr>\n",
       "      <th>9</th>\n",
       "      <td>Terry Pratchett</td>\n",
       "      <td>Terry Pratchett</td>\n",
       "      <td>2005</td>\n",
       "    </tr>\n",
       "    <tr>\n",
       "      <th>10</th>\n",
       "      <td>The Spellman Files</td>\n",
       "      <td>Lisa Lutz</td>\n",
       "      <td>2007</td>\n",
       "    </tr>\n",
       "    <tr>\n",
       "      <th>11</th>\n",
       "      <td>Small Gods</td>\n",
       "      <td>Terry Pratchett</td>\n",
       "      <td>1992</td>\n",
       "    </tr>\n",
       "  </tbody>\n",
       "</table>\n",
       "</div>"
      ],
      "text/plain": [
       "                            title           author  year\n",
       "0                           title           writer  year\n",
       "1   The Weirdstone of Brisingamen      Alan Garner  1960\n",
       "2          Perdido Street Station  China MiÃ©ville  2000\n",
       "3                 Terry Pratchett  Terry Pratchett  2005\n",
       "4              The Spellman Files        Lisa Lutz  2007\n",
       "5                      Small Gods  Terry Pratchett  1992\n",
       "6                           title           writer  year\n",
       "7   The Weirdstone of Brisingamen      Alan Garner  1960\n",
       "8          Perdido Street Station  China MiÃ©ville  2000\n",
       "9                 Terry Pratchett  Terry Pratchett  2005\n",
       "10             The Spellman Files        Lisa Lutz  2007\n",
       "11                     Small Gods  Terry Pratchett  1992"
      ]
     },
     "execution_count": 8,
     "metadata": {},
     "output_type": "execute_result"
    }
   ],
   "source": [
    "import sqlalchemy\n",
    "import pandas as pd\n",
    "#2.-Turn on database engine\n",
    "dbEngine=sqlalchemy.create_engine('sqlite:///books.db') # ensure this is the correct path for the sqlite file. \n",
    "\n",
    "#3.- Read data with pandas\n",
    "pd.read_sql('select * from books',dbEngine)"
   ]
  },
  {
   "cell_type": "code",
   "execution_count": null,
   "id": "grave-bread",
   "metadata": {},
   "outputs": [],
   "source": []
  }
 ],
 "metadata": {
  "kernelspec": {
   "display_name": "Python 3",
   "language": "python",
   "name": "python3"
  },
  "language_info": {
   "codemirror_mode": {
    "name": "ipython",
    "version": 3
   },
   "file_extension": ".py",
   "mimetype": "text/x-python",
   "name": "python",
   "nbconvert_exporter": "python",
   "pygments_lexer": "ipython3",
   "version": "3.7.6"
  }
 },
 "nbformat": 4,
 "nbformat_minor": 5
}
