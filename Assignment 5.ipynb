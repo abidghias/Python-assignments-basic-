{
 "cells": [
  {
   "cell_type": "code",
   "execution_count": 3,
   "id": "studied-prerequisite",
   "metadata": {},
   "outputs": [],
   "source": [
    "#1\n",
    "emptydict = {}\n",
    "#or \n",
    "empydict = dict()"
   ]
  },
  {
   "cell_type": "code",
   "execution_count": 9,
   "id": "breeding-metallic",
   "metadata": {},
   "outputs": [
    {
     "data": {
      "text/plain": [
       "42"
      ]
     },
     "execution_count": 9,
     "metadata": {},
     "output_type": "execute_result"
    }
   ],
   "source": [
    "emptydict={'key':42}\n",
    "emptydict['key']\n",
    "#value is 42"
   ]
  },
  {
   "cell_type": "raw",
   "id": "distributed-winning",
   "metadata": {},
   "source": [
    "3. dictionay can contain only distinct keys wheras lists can contain same elements"
   ]
  },
  {
   "cell_type": "code",
   "execution_count": 14,
   "id": "optional-ceiling",
   "metadata": {},
   "outputs": [
    {
     "data": {
      "text/plain": [
       "{'bar': 100}"
      ]
     },
     "execution_count": 14,
     "metadata": {},
     "output_type": "execute_result"
    }
   ],
   "source": [
    "#4\n",
    "spam = {'foo':{'bar':100}}\n",
    "spam['foo']\n",
    "# this is a dictionary inside a disctionary"
   ]
  },
  {
   "cell_type": "code",
   "execution_count": 19,
   "id": "sitting-execution",
   "metadata": {},
   "outputs": [
    {
     "data": {
      "text/plain": [
       "dict_keys(['cat'])"
      ]
     },
     "execution_count": 19,
     "metadata": {},
     "output_type": "execute_result"
    }
   ],
   "source": [
    "#5and6 \n",
    "spam = {'cat':'cat'}\n",
    "# one is a key and the other one is the value\n",
    "spam.keys()\n",
    "#function keys returns all the possible keys stored in that dictionary\n"
   ]
  },
  {
   "cell_type": "code",
   "execution_count": 25,
   "id": "about-generator",
   "metadata": {},
   "outputs": [],
   "source": [
    "if 'colour' not in spam:\n",
    "    spam['color']='black' \n"
   ]
  },
  {
   "cell_type": "code",
   "execution_count": 27,
   "id": "secret-buddy",
   "metadata": {},
   "outputs": [
    {
     "name": "stdout",
     "output_type": "stream",
     "text": [
      "{'cat': 'cat', 'color': 'black'}\n"
     ]
    }
   ],
   "source": [
    "#8 we import pprint\n",
    "# funtion is PrettyPrinter\n",
    "import pprint \n",
    "pp = pprint.PrettyPrinter(indent=4)\n",
    "pp.pprint(spam)"
   ]
  },
  {
   "cell_type": "code",
   "execution_count": null,
   "id": "similar-values",
   "metadata": {},
   "outputs": [],
   "source": []
  }
 ],
 "metadata": {
  "kernelspec": {
   "display_name": "Python 3",
   "language": "python",
   "name": "python3"
  },
  "language_info": {
   "codemirror_mode": {
    "name": "ipython",
    "version": 3
   },
   "file_extension": ".py",
   "mimetype": "text/x-python",
   "name": "python",
   "nbconvert_exporter": "python",
   "pygments_lexer": "ipython3",
   "version": "3.7.6"
  }
 },
 "nbformat": 4,
 "nbformat_minor": 5
}
