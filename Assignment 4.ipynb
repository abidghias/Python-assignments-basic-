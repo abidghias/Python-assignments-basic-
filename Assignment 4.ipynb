{
 "cells": [
  {
   "cell_type": "code",
   "execution_count": 1,
   "id": "lightweight-chuck",
   "metadata": {},
   "outputs": [],
   "source": [
    "a = [1,2,3]"
   ]
  },
  {
   "cell_type": "raw",
   "id": "determined-neighborhood",
   "metadata": {},
   "source": [
    "1. [] is a data type called list which is declered\n",
    " It can also be declared like\n",
    "   a = list()\n",
    "    "
   ]
  },
  {
   "cell_type": "code",
   "execution_count": 2,
   "id": "wrapped-scroll",
   "metadata": {},
   "outputs": [
    {
     "data": {
      "text/plain": [
       "[2, 4, 'hello', 8, 10]"
      ]
     },
     "execution_count": 2,
     "metadata": {},
     "output_type": "execute_result"
    }
   ],
   "source": [
    "#2\n",
    "spam = [2,4,6,8,10]\n",
    "spam[2]='hello'\n",
    "spam"
   ]
  },
  {
   "cell_type": "code",
   "execution_count": 4,
   "id": "demonstrated-grant",
   "metadata": {},
   "outputs": [],
   "source": [
    "#\n",
    "spam = ['a','b','c','d']\n"
   ]
  },
  {
   "cell_type": "code",
   "execution_count": 7,
   "id": "enabling-split",
   "metadata": {},
   "outputs": [],
   "source": [
    "#3. spam[int('3'*2)/11]"
   ]
  },
  {
   "cell_type": "raw",
   "id": "sweet-norfolk",
   "metadata": {},
   "source": [
    "The above code will give error since we are performing a mixture of integer & character operation on a list which contains purely string types inside"
   ]
  },
  {
   "cell_type": "code",
   "execution_count": 9,
   "id": "quarterly-suffering",
   "metadata": {},
   "outputs": [
    {
     "data": {
      "text/plain": [
       "'d'"
      ]
     },
     "execution_count": 9,
     "metadata": {},
     "output_type": "execute_result"
    }
   ],
   "source": [
    "#4\n",
    "spam[-1]\n",
    "#it returns the last element"
   ]
  },
  {
   "cell_type": "code",
   "execution_count": 11,
   "id": "fundamental-collapse",
   "metadata": {},
   "outputs": [
    {
     "data": {
      "text/plain": [
       "['a', 'b']"
      ]
     },
     "execution_count": 11,
     "metadata": {},
     "output_type": "execute_result"
    }
   ],
   "source": [
    "#5\n",
    "spam[:2]\n",
    "#returns elements from the 0th and the 1st index"
   ]
  },
  {
   "cell_type": "code",
   "execution_count": 22,
   "id": "prospective-ethiopia",
   "metadata": {},
   "outputs": [],
   "source": [
    "#6 (syntax error in the question)\n",
    "bacon = [3.14,'cat',11,'cat',True]"
   ]
  },
  {
   "cell_type": "code",
   "execution_count": 15,
   "id": "hindu-template",
   "metadata": {},
   "outputs": [
    {
     "data": {
      "text/plain": [
       "1"
      ]
     },
     "execution_count": 15,
     "metadata": {},
     "output_type": "execute_result"
    }
   ],
   "source": [
    "bacon.index('cat')\n",
    "#it returns the position where it first find the string cat\n",
    "# Index positions in list start from 0,1,2 and so on"
   ]
  },
  {
   "cell_type": "code",
   "execution_count": 18,
   "id": "challenging-citation",
   "metadata": {},
   "outputs": [],
   "source": [
    "#7\n",
    "bacon.append(99)\n",
    "#it appends the value at the last index postition of the list"
   ]
  },
  {
   "cell_type": "code",
   "execution_count": 23,
   "id": "placed-thinking",
   "metadata": {},
   "outputs": [],
   "source": [
    "#8 \n",
    "bacon.remove('cat')\n",
    "#it removes all the elements which contain/matches the same string cat"
   ]
  },
  {
   "cell_type": "code",
   "execution_count": 38,
   "id": "understood-joining",
   "metadata": {},
   "outputs": [
    {
     "data": {
      "text/plain": [
       "[1, 2, 3, 1, 2, 3, 1, 2, 3]"
      ]
     },
     "execution_count": 38,
     "metadata": {},
     "output_type": "execute_result"
    }
   ],
   "source": [
    "#9\n",
    "# list concat\n",
    "a = [1,2,3]\n",
    "d = a + bacon\n",
    "\n",
    "d\n",
    "#it adds the contents of the 2 lists into the variable d in this case\n",
    "e = a*3\n",
    "e\n",
    "#it replicates the contents of the list 3 times "
   ]
  },
  {
   "cell_type": "code",
   "execution_count": 30,
   "id": "voluntary-aerospace",
   "metadata": {},
   "outputs": [],
   "source": [
    "#10\n",
    "e.insert(1,'hi')\n",
    "#insert operation takes 2 arguments, 1st is the position and second is the item to be appended"
   ]
  },
  {
   "cell_type": "code",
   "execution_count": 31,
   "id": "surprising-combining",
   "metadata": {},
   "outputs": [],
   "source": [
    "#10\n",
    "e.append('hi')\n",
    "#append inserts the element only in the last position of the list\n"
   ]
  },
  {
   "cell_type": "code",
   "execution_count": 39,
   "id": "organized-perry",
   "metadata": {},
   "outputs": [],
   "source": [
    "#11\n",
    "e.pop()\n",
    "#pop removes the last element always\n",
    "e.remove(3)\n",
    "#remove removes all the elements which match the argument passed in the command"
   ]
  },
  {
   "cell_type": "raw",
   "id": "stuffed-category",
   "metadata": {},
   "source": [
    "12.\n",
    "    If the value inside the list is also of string data type then they can be identical\n"
   ]
  },
  {
   "cell_type": "raw",
   "id": "classified-belle",
   "metadata": {},
   "source": [
    "13. Tuples are immutable, lists are mutable\n",
    "    a = () , b = []\n",
    "    a is a tuple, b is a list\n",
    "    \n",
    "    Tuples has more limited functions compared to lists due to its property of immutabilty"
   ]
  },
  {
   "cell_type": "code",
   "execution_count": 55,
   "id": "built-nirvana",
   "metadata": {},
   "outputs": [],
   "source": [
    "#14\n",
    "a = (42,)"
   ]
  },
  {
   "cell_type": "code",
   "execution_count": 60,
   "id": "arranged-keeping",
   "metadata": {},
   "outputs": [
    {
     "data": {
      "text/plain": [
       "(42,)"
      ]
     },
     "execution_count": 60,
     "metadata": {},
     "output_type": "execute_result"
    }
   ],
   "source": [
    "#15\n",
    "list(a)\n",
    "tuple(a)"
   ]
  },
  {
   "cell_type": "raw",
   "id": "republican-herald",
   "metadata": {},
   "source": [
    "16. They can contain references to other lists as well\n"
   ]
  },
  {
   "cell_type": "raw",
   "id": "boxed-pepper",
   "metadata": {},
   "source": [
    "17.  This is deep and shallow copy\n",
    "    copy.copy() is shallow copy where there is no copy of the original object created and therefore changes in the original reference have an impact in the copied reference\n",
    "    eg.\n",
    "    \n",
    "    a = [1, 2, [3,5], 4] \n",
    "   \n",
    "    b = copy.copy(a) \n",
    "    changes in a affect b as well\n",
    "    \n",
    "    copy.deepcopy() is a deep copy method where a copy of the original is created and therefore changes in the original do not reflect in the copy\n",
    "    \n",
    "    eg. \n",
    "        a = [1, 2, [3,5], 4] \n",
    "  \n",
    "  \n",
    "        b = copy.deepcopy(li1) "
   ]
  },
  {
   "cell_type": "code",
   "execution_count": null,
   "id": "wooden-myanmar",
   "metadata": {},
   "outputs": [],
   "source": []
  }
 ],
 "metadata": {
  "kernelspec": {
   "display_name": "Python 3",
   "language": "python",
   "name": "python3"
  },
  "language_info": {
   "codemirror_mode": {
    "name": "ipython",
    "version": 3
   },
   "file_extension": ".py",
   "mimetype": "text/x-python",
   "name": "python",
   "nbconvert_exporter": "python",
   "pygments_lexer": "ipython3",
   "version": "3.7.6"
  }
 },
 "nbformat": 4,
 "nbformat_minor": 5
}
