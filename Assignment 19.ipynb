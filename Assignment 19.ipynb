{
 "cells": [
  {
   "cell_type": "code",
   "execution_count": 2,
   "id": "usual-queen",
   "metadata": {},
   "outputs": [],
   "source": [
    "class Thing():\n",
    "    pass"
   ]
  },
  {
   "cell_type": "code",
   "execution_count": 3,
   "id": "through-boating",
   "metadata": {},
   "outputs": [
    {
     "data": {
      "text/plain": [
       "__main__.Thing"
      ]
     },
     "execution_count": 3,
     "metadata": {},
     "output_type": "execute_result"
    }
   ],
   "source": [
    "Thing"
   ]
  },
  {
   "cell_type": "code",
   "execution_count": 4,
   "id": "consecutive-shadow",
   "metadata": {},
   "outputs": [],
   "source": [
    "example = Thing()"
   ]
  },
  {
   "cell_type": "code",
   "execution_count": 5,
   "id": "established-authentication",
   "metadata": {},
   "outputs": [
    {
     "data": {
      "text/plain": [
       "<__main__.Thing at 0x248ea4a0588>"
      ]
     },
     "execution_count": 5,
     "metadata": {},
     "output_type": "execute_result"
    }
   ],
   "source": [
    "example"
   ]
  },
  {
   "cell_type": "code",
   "execution_count": 7,
   "id": "entitled-thread",
   "metadata": {},
   "outputs": [],
   "source": [
    "#1 example object returns an object of that class whereas ln[3] returns the class location itself\n",
    "\n",
    "#So they are different"
   ]
  },
  {
   "cell_type": "code",
   "execution_count": 16,
   "id": "worst-contractor",
   "metadata": {},
   "outputs": [
    {
     "name": "stdout",
     "output_type": "stream",
     "text": [
      "abc\n"
     ]
    }
   ],
   "source": [
    "#2\n",
    "class Thing2():\n",
    "    def __init__(self,a):\n",
    "        self.a = a\n",
    "    def __str__(self):\n",
    "        return self.a\n",
    "        \n",
    "x = Thing2('abc')\n",
    "print(x)"
   ]
  },
  {
   "cell_type": "code",
   "execution_count": 19,
   "id": "southeast-reward",
   "metadata": {},
   "outputs": [
    {
     "name": "stdout",
     "output_type": "stream",
     "text": [
      "xyz\n"
     ]
    }
   ],
   "source": [
    "#3\n",
    "class Thing3():\n",
    "    def __init__(self,a):\n",
    "        self.a = a\n",
    "    def __str__(self):\n",
    "        return self.a\n",
    "        \n",
    "x = Thing3('xyz')\n",
    "print(x)\n",
    "#yes an object must be created to access the elements of a class\n"
   ]
  },
  {
   "cell_type": "code",
   "execution_count": 21,
   "id": "chronic-paste",
   "metadata": {},
   "outputs": [],
   "source": [
    "#4\n",
    "class Element():\n",
    "    def __init__(self,name,symbol,number):\n",
    "        self.name = name\n",
    "        self.symbol = symbol\n",
    "        self.number = number\n",
    "e = Element('Hydrogen','H',1)"
   ]
  },
  {
   "cell_type": "code",
   "execution_count": 28,
   "id": "honest-conclusion",
   "metadata": {},
   "outputs": [
    {
     "data": {
      "text/plain": [
       "{'name': {'Hydrogen': 'h'},\n",
       " 'symbol': {'Hydrogen': 'h'},\n",
       " 'number': {'Hydrogen': 'h'}}"
      ]
     },
     "execution_count": 28,
     "metadata": {},
     "output_type": "execute_result"
    }
   ],
   "source": [
    "#5\n",
    "a = {'Hydrogen':'h'}\n",
    "a1 = Element(a,a,a)\n",
    "a1.__dict__"
   ]
  },
  {
   "cell_type": "code",
   "execution_count": 40,
   "id": "painted-accent",
   "metadata": {},
   "outputs": [
    {
     "name": "stdout",
     "output_type": "stream",
     "text": [
      "abc\n"
     ]
    }
   ],
   "source": [
    "#6\n",
    "class Element():\n",
    "    def __init__(self,name,symbol,number):\n",
    "        self.name = name\n",
    "        self.symbol = symbol\n",
    "        self.number = number\n",
    "    def dump(name,symbol,number):\n",
    "        print((name) + (symbol) + (number))\n",
    "        \n",
    "        \n",
    "hydrogen = Element.dump('a','b','c')\n"
   ]
  },
  {
   "cell_type": "code",
   "execution_count": 57,
   "id": "clinical-brass",
   "metadata": {},
   "outputs": [
    {
     "name": "stdout",
     "output_type": "stream",
     "text": [
      "a1\n"
     ]
    }
   ],
   "source": [
    "#7\n",
    "class Element():\n",
    "    def __init__(self,name,symbol,number):\n",
    "        self.name = name\n",
    "        self.symbol = symbol\n",
    "        self.number = number\n",
    "    def __str__(self):\n",
    "        return ((self.name) +' '+ (self.symbol) + ' '+ (self.number))\n",
    "        \n",
    "        \n",
    "hydrogen = Element('a1','b1','c1')\n",
    "print(hydrogen.name)"
   ]
  },
  {
   "cell_type": "code",
   "execution_count": 64,
   "id": "dated-laser",
   "metadata": {},
   "outputs": [
    {
     "name": "stdout",
     "output_type": "stream",
     "text": [
      "rahul\n"
     ]
    }
   ],
   "source": [
    "#8\n",
    "class Element():\n",
    "    def __init__(self,name,symbol,number):\n",
    "        self._name = name\n",
    "        self._symbol = symbol\n",
    "        self.__number = number\n",
    "    def __str__(self):\n",
    "        return ((self._name) +' '+ (self._symbol) + ' '+ str(self._number))\n",
    "        \n",
    "        \n",
    "a = Element('rahul','a',23)\n",
    "#print(a.name)  this will give error because the name attribute is protected\n",
    "print(a._name)"
   ]
  },
  {
   "cell_type": "code",
   "execution_count": 69,
   "id": "charitable-ottawa",
   "metadata": {},
   "outputs": [
    {
     "name": "stdout",
     "output_type": "stream",
     "text": [
      "Berries\n",
      "clover\n",
      "campers\n"
     ]
    }
   ],
   "source": [
    "#9\n",
    "class Bear():\n",
    "    def __init__(self,a):\n",
    "        self.a = a\n",
    "        \n",
    "    def eats(self):\n",
    "        return self.a\n",
    "\n",
    "class Rabbit():\n",
    "    def __init__(self,eats):\n",
    "        self.eats = eats\n",
    "    def eats(self):\n",
    "        return self.eats\n",
    "        \n",
    "class Octothrope():\n",
    "    def __init__(self,eats):\n",
    "        self.eats = eats\n",
    "    def eats(self):\n",
    "        return self.eats\n",
    "        \n",
    "b = Bear('Berries')     \n",
    "r = Rabbit('clover')\n",
    "o = Octothrope('campers')\n",
    "    \n",
    "print(b.a)\n",
    "print(r.eats)\n",
    "print(o.eats)"
   ]
  },
  {
   "cell_type": "code",
   "execution_count": 72,
   "id": "straight-manitoba",
   "metadata": {},
   "outputs": [
    {
     "name": "stdout",
     "output_type": "stream",
     "text": [
      "disintegrate\n",
      "crush\n",
      "ring\n"
     ]
    }
   ],
   "source": [
    "#10\n",
    "class Laser():\n",
    "    def __init__(self,eats):\n",
    "        self.eats = eats\n",
    "        \n",
    "    def __str__(self):\n",
    "        return self.eats\n",
    "\n",
    "class Claw():\n",
    "    def __init__(self,eats):\n",
    "        self.eats = eats\n",
    "    def __str__(self):\n",
    "        return self.eats\n",
    "        \n",
    "class Smartphone():\n",
    "    def __init__(self,eats):\n",
    "        self.eats = eats\n",
    "    def __str__(self):\n",
    "        return self.eats\n",
    "    \n",
    "class Robot:\n",
    "    def __init__(self, laser, claw, smartphone):\n",
    "        self.laser = laser\n",
    "        self.claw = claw\n",
    "        self.smartphone = smartphone\n",
    "    def __str__(self):\n",
    "        return str(self.laser) + \"\\n\" + str(self.claw) + \"\\n\" + str(self.smartphone)\n",
    "    \n",
    "l = Laser('disintegrate')\n",
    "c = Claw('crush')\n",
    "s = Smartphone('ring')\n",
    "\n",
    "r = Robot(l,c,s)\n",
    "print(r)\n"
   ]
  },
  {
   "cell_type": "code",
   "execution_count": null,
   "id": "institutional-warren",
   "metadata": {},
   "outputs": [],
   "source": []
  }
 ],
 "metadata": {
  "kernelspec": {
   "display_name": "Python 3",
   "language": "python",
   "name": "python3"
  },
  "language_info": {
   "codemirror_mode": {
    "name": "ipython",
    "version": 3
   },
   "file_extension": ".py",
   "mimetype": "text/x-python",
   "name": "python",
   "nbconvert_exporter": "python",
   "pygments_lexer": "ipython3",
   "version": "3.7.6"
  }
 },
 "nbformat": 4,
 "nbformat_minor": 5
}
