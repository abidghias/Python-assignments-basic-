{
 "cells": [
  {
   "cell_type": "code",
   "execution_count": null,
   "id": "fewer-turning",
   "metadata": {},
   "outputs": [],
   "source": [
    "#1\n",
    "guess_me = int(input(\"Enter the variable \"))\n",
    "if guess_me < 7:\n",
    "    print('too low ')\n",
    "elif guess_me == 7:\n",
    "    print('just right ')\n",
    "else:\n",
    "    print('too high ')"
   ]
  },
  {
   "cell_type": "code",
   "execution_count": 9,
   "id": "right-algeria",
   "metadata": {},
   "outputs": [
    {
     "name": "stdout",
     "output_type": "stream",
     "text": [
      "too tiny\n",
      "too tiny\n",
      "too tiny\n",
      "too tiny\n",
      "too tiny\n",
      "too tiny\n",
      "found  it!\n",
      "oops\n"
     ]
    }
   ],
   "source": [
    "#2\n",
    "guess_me = 7\n",
    "start = 1\n",
    "while start < guess_me:\n",
    "    print('too tiny')\n",
    "    start += 1\n",
    "    while start == guess_me:\n",
    "        print('found  it!')\n",
    "        start +=1\n",
    "        while start > guess_me:\n",
    "            print('oops')\n",
    "            break\n",
    "        \n",
    "    \n",
    "        \n",
    "    \n",
    "\n",
    "\n",
    "    \n"
   ]
  },
  {
   "cell_type": "code",
   "execution_count": 12,
   "id": "horizontal-cutting",
   "metadata": {},
   "outputs": [
    {
     "name": "stdout",
     "output_type": "stream",
     "text": [
      "3\n",
      "2\n",
      "1\n",
      "0\n"
     ]
    }
   ],
   "source": [
    "x = [3,2,1,0]\n",
    "for i in x:\n",
    "    print(i)"
   ]
  },
  {
   "cell_type": "code",
   "execution_count": 18,
   "id": "answering-skating",
   "metadata": {},
   "outputs": [
    {
     "data": {
      "text/plain": [
       "[0, 2, 4, 6, 8, 10]"
      ]
     },
     "execution_count": 18,
     "metadata": {},
     "output_type": "execute_result"
    }
   ],
   "source": [
    "#4\n",
    "even_no = [x for x in range(11) if x % 2 == 0]\n",
    "even_no"
   ]
  },
  {
   "cell_type": "code",
   "execution_count": 20,
   "id": "liked-talent",
   "metadata": {},
   "outputs": [
    {
     "data": {
      "text/plain": [
       "{1: 1, 2: 4, 3: 9, 4: 16, 5: 25, 6: 36, 7: 49, 8: 64, 9: 81, 10: 100}"
      ]
     },
     "execution_count": 20,
     "metadata": {},
     "output_type": "execute_result"
    }
   ],
   "source": [
    "#5\n",
    "square_dict = {num: num*num for num in range(1, 11)}\n",
    "square_dict"
   ]
  },
  {
   "cell_type": "code",
   "execution_count": 26,
   "id": "sharp-selling",
   "metadata": {},
   "outputs": [
    {
     "data": {
      "text/plain": [
       "{1, 3, 5, 7, 9}"
      ]
     },
     "execution_count": 26,
     "metadata": {},
     "output_type": "execute_result"
    }
   ],
   "source": [
    "#6\n",
    "odd_no = {odd for odd in range(11) if odd %2 != 0}\n",
    "odd_no"
   ]
  },
  {
   "cell_type": "code",
   "execution_count": 35,
   "id": "eight-brooks",
   "metadata": {},
   "outputs": [
    {
     "data": {
      "text/plain": [
       "<generator object <genexpr> at 0x00000241FAF994C8>"
      ]
     },
     "execution_count": 35,
     "metadata": {},
     "output_type": "execute_result"
    }
   ],
   "source": [
    "#7\n",
    "x = ['Got',1,2,3]\n",
    "y = (item for item in x if item == 'Got' or type(item) == int)\n",
    "y"
   ]
  },
  {
   "cell_type": "code",
   "execution_count": 36,
   "id": "bizarre-shape",
   "metadata": {},
   "outputs": [
    {
     "data": {
      "text/plain": [
       "'Got'"
      ]
     },
     "execution_count": 36,
     "metadata": {},
     "output_type": "execute_result"
    }
   ],
   "source": [
    "next(y)"
   ]
  },
  {
   "cell_type": "code",
   "execution_count": 37,
   "id": "excited-hungary",
   "metadata": {},
   "outputs": [],
   "source": [
    "#8\n",
    "feature = ['Harry','Ron','Hermione']"
   ]
  },
  {
   "cell_type": "code",
   "execution_count": 37,
   "id": "closing-light",
   "metadata": {},
   "outputs": [
    {
     "data": {
      "text/plain": [
       "<generator object <genexpr> at 0x000001E7DFD57248>"
      ]
     },
     "execution_count": 37,
     "metadata": {},
     "output_type": "execute_result"
    }
   ],
   "source": [
    "#9\n",
    "odd_gen = (odd for odd in range(11) if odd %2 != 0)\n",
    "odd_gen\n",
    "\n"
   ]
  },
  {
   "cell_type": "code",
   "execution_count": 39,
   "id": "global-satellite",
   "metadata": {},
   "outputs": [
    {
     "data": {
      "text/plain": [
       "3"
      ]
     },
     "execution_count": 39,
     "metadata": {},
     "output_type": "execute_result"
    }
   ],
   "source": [
    "next(odd_gen)"
   ]
  },
  {
   "cell_type": "code",
   "execution_count": 72,
   "id": "authorized-federal",
   "metadata": {},
   "outputs": [],
   "source": [
    "def test():\n",
    "    yield(\"start\")\n",
    "    yield(\"Moscow\")\n",
    "    yield(\"Goa\")\n",
    "    yield(\"Zurich\")\n",
    "    yield(\"bangalore\")\n",
    "    yield(\"end\") \n",
    "x = test()"
   ]
  },
  {
   "cell_type": "code",
   "execution_count": 73,
   "id": "accompanied-creek",
   "metadata": {},
   "outputs": [
    {
     "data": {
      "text/plain": [
       "'start'"
      ]
     },
     "execution_count": 73,
     "metadata": {},
     "output_type": "execute_result"
    }
   ],
   "source": [
    "next(x)"
   ]
  },
  {
   "cell_type": "code",
   "execution_count": 76,
   "id": "subtle-palestine",
   "metadata": {},
   "outputs": [
    {
     "name": "stdout",
     "output_type": "stream",
     "text": [
      "start\n",
      "moscow\n",
      "goa\n",
      "end\n"
     ]
    }
   ],
   "source": [
    "random = ['start','moscow','goa','end']\n",
    "#returning an iterator, we use iter \n",
    "iterator = iter(random)\n",
    "while iterator:\n",
    "    try:\n",
    "        x = next(iterator)\n",
    "        print(x)\n",
    "    except StopIteration:\n",
    "        break"
   ]
  },
  {
   "cell_type": "code",
   "execution_count": 5,
   "id": "hybrid-illinois",
   "metadata": {},
   "outputs": [],
   "source": [
    "\n",
    "class OopsException(Error):\n",
    "    pass\n"
   ]
  },
  {
   "cell_type": "code",
   "execution_count": 26,
   "id": "manual-island",
   "metadata": {},
   "outputs": [
    {
     "name": "stdout",
     "output_type": "stream",
     "text": [
      "Enter an integer4\n",
      "Caught an oops\n"
     ]
    }
   ],
   "source": [
    "#11\n",
    "try:\n",
    "    x = int(input(\"Enter an integer\"))\n",
    "    \n",
    "    if x < 7:\n",
    "        raise OopsException\n",
    "    else:\n",
    "        print('Good choice')\n",
    "except OopsException:\n",
    "    print('Caught an oops') \n",
    "    \n",
    "    "
   ]
  },
  {
   "cell_type": "code",
   "execution_count": 22,
   "id": "promising-strain",
   "metadata": {},
   "outputs": [
    {
     "name": "stdout",
     "output_type": "stream",
     "text": [
      "{<zip object at 0x000001E7DFEA95C8>}\n",
      "{'Creature of Habit': 'A nun turns into a monster', 'Crewel Fate': 'A haunted yarn shop'}\n"
     ]
    }
   ],
   "source": [
    "#12\n",
    "titles = ['Creature of Habit', 'Crewel Fate']\n",
    "plots = ['A nun turns into a monster', 'A haunted yarn shop']\n",
    "\n",
    "movies = {zip(titles,plots)}\n",
    "movies_1 = dict(zip(titles,plots))\n",
    "print(movies)\n",
    "print(movies_1)\n"
   ]
  },
  {
   "cell_type": "code",
   "execution_count": null,
   "id": "minute-terminology",
   "metadata": {},
   "outputs": [],
   "source": []
  },
  {
   "cell_type": "code",
   "execution_count": null,
   "id": "administrative-landscape",
   "metadata": {},
   "outputs": [],
   "source": []
  }
 ],
 "metadata": {
  "kernelspec": {
   "display_name": "Python 3",
   "language": "python",
   "name": "python3"
  },
  "language_info": {
   "codemirror_mode": {
    "name": "ipython",
    "version": 3
   },
   "file_extension": ".py",
   "mimetype": "text/x-python",
   "name": "python",
   "nbconvert_exporter": "python",
   "pygments_lexer": "ipython3",
   "version": "3.7.6"
  }
 },
 "nbformat": 4,
 "nbformat_minor": 5
}
