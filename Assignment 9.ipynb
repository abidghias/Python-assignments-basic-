{
 "cells": [
  {
   "cell_type": "raw",
   "id": "joint-tuition",
   "metadata": {},
   "source": [
    "1. Just the file name in the current working directory is relative path\n",
    "   "
   ]
  },
  {
   "cell_type": "raw",
   "id": "threatened-starter",
   "metadata": {},
   "source": [
    "2.  Absolute path infers the entire path and usually starts with 'C:\\' or 'D:\\' to tell from which drive the file is stored "
   ]
  },
  {
   "cell_type": "raw",
   "id": "suspected-warehouse",
   "metadata": {},
   "source": [
    "3. This is an executable command where it goes to the specified path"
   ]
  },
  {
   "cell_type": "raw",
   "id": "freelance-myanmar",
   "metadata": {},
   "source": [
    "4. This causes an error because it is syntactically incorrent"
   ]
  },
  {
   "cell_type": "raw",
   "id": "detailed-warner",
   "metadata": {},
   "source": [
    "5. chdir() - it changes the current directory to the path specified\n",
    "   eg. os.chdir('C:\\\\Users\\\\lifei')\n",
    "   \n",
    "   os.getcwd() - this returns the current working directory .. i.e the one that is active"
   ]
  },
  {
   "cell_type": "raw",
   "id": "massive-secret",
   "metadata": {},
   "source": [
    "6. cd .. goes back one step in the folder\n",
    "   cd . changes working directory into current working directory"
   ]
  },
  {
   "cell_type": "raw",
   "id": "peaceful-assist",
   "metadata": {},
   "source": [
    "7. dir name  -- C: (it is present in C directory)\n",
    "   base name -- baconeggsspam.txt (name of the file)"
   ]
  },
  {
   "cell_type": "raw",
   "id": "frequent-realtor",
   "metadata": {},
   "source": [
    "8. read (r)\n",
    "    write (w)\n",
    "    and append (a)"
   ]
  },
  {
   "cell_type": "raw",
   "id": "integrated-start",
   "metadata": {},
   "source": [
    "9.  its contents are discarded and the file is treated as a new empty file"
   ]
  },
  {
   "cell_type": "raw",
   "id": "silent-establishment",
   "metadata": {},
   "source": [
    "10. Read is used to read only single character from the file\n",
    "\n",
    "    The readlines method returns the contents of the entire file as a list of strings, where each item in the list represents       one line of the file."
   ]
  },
  {
   "cell_type": "code",
   "execution_count": null,
   "id": "initial-cosmetic",
   "metadata": {},
   "outputs": [],
   "source": []
  }
 ],
 "metadata": {
  "kernelspec": {
   "display_name": "Python 3",
   "language": "python",
   "name": "python3"
  },
  "language_info": {
   "codemirror_mode": {
    "name": "ipython",
    "version": 3
   },
   "file_extension": ".py",
   "mimetype": "text/x-python",
   "name": "python",
   "nbconvert_exporter": "python",
   "pygments_lexer": "ipython3",
   "version": "3.7.6"
  }
 },
 "nbformat": 4,
 "nbformat_minor": 5
}
