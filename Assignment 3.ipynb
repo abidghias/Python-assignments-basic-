{
 "cells": [
  {
   "cell_type": "raw",
   "id": "julian-chapel",
   "metadata": {},
   "source": [
    "1. Assigning roles in the programes helps to identify the responsibility of each line of code as to what it is expected to deliver,\n",
    "Therefore it would be easier to rectify a problem in case there is a bug in the code.\n",
    "Other benifits include modularizing the code, declaring functions which reduce the lines of code and increase reusabilty.\n"
   ]
  },
  {
   "cell_type": "raw",
   "id": "embedded-warrior",
   "metadata": {},
   "source": [
    "2. When it is specified"
   ]
  },
  {
   "cell_type": "raw",
   "id": "remarkable-energy",
   "metadata": {},
   "source": [
    "3. An assignment statment when executed created a feature in python"
   ]
  },
  {
   "cell_type": "raw",
   "id": "registered-newman",
   "metadata": {},
   "source": [
    "4. A function can be created and stored and it gets executed only when it is called/referenced"
   ]
  },
  {
   "cell_type": "code",
   "execution_count": 1,
   "id": "colonial-maldives",
   "metadata": {},
   "outputs": [],
   "source": [
    "#example \n",
    "def say_hi():\n",
    "    print('hi')"
   ]
  },
  {
   "cell_type": "raw",
   "id": "infectious-string",
   "metadata": {},
   "source": [
    "Here, function is just declared"
   ]
  },
  {
   "cell_type": "code",
   "execution_count": 2,
   "id": "imperial-updating",
   "metadata": {},
   "outputs": [
    {
     "name": "stdout",
     "output_type": "stream",
     "text": [
      "hi\n"
     ]
    }
   ],
   "source": [
    "say_hi()"
   ]
  },
  {
   "cell_type": "raw",
   "id": "economic-cliff",
   "metadata": {},
   "source": [
    "Whereas, here it is called and gets executed"
   ]
  },
  {
   "cell_type": "raw",
   "id": "inside-mathematics",
   "metadata": {},
   "source": [
    "5. One global, accessible everywhere in the program \n",
    "   3 local, accessible in specific locations"
   ]
  },
  {
   "cell_type": "raw",
   "id": "inappropriate-anatomy",
   "metadata": {},
   "source": [
    "6. The element inside the local scope gets converted to global scope"
   ]
  },
  {
   "cell_type": "code",
   "execution_count": 8,
   "id": "aggregate-collection",
   "metadata": {},
   "outputs": [],
   "source": [
    "#example\n",
    "def say_hi():\n",
    "    a = 10\n",
    "    return a\n"
   ]
  },
  {
   "cell_type": "code",
   "execution_count": 12,
   "id": "regional-tooth",
   "metadata": {},
   "outputs": [],
   "source": [
    "say_hi()"
   ]
  },
  {
   "cell_type": "raw",
   "id": "damaged-flavor",
   "metadata": {},
   "source": [
    "7. return value gives the output of the intended function\n",
    "    Yes, we can return value in an expression"
   ]
  },
  {
   "cell_type": "code",
   "execution_count": 14,
   "id": "solid-veteran",
   "metadata": {},
   "outputs": [],
   "source": [
    "#example\n",
    "def add(a,b):\n",
    "    return a+b"
   ]
  },
  {
   "cell_type": "raw",
   "id": "compact-virtue",
   "metadata": {},
   "source": [
    "8. NoneType"
   ]
  },
  {
   "cell_type": "code",
   "execution_count": 10,
   "id": "compatible-aging",
   "metadata": {},
   "outputs": [],
   "source": [
    "def say_hi():\n",
    "    a = 10\n",
    "\n"
   ]
  },
  {
   "cell_type": "code",
   "execution_count": 11,
   "id": "confidential-scope",
   "metadata": {},
   "outputs": [
    {
     "data": {
      "text/plain": [
       "NoneType"
      ]
     },
     "execution_count": 11,
     "metadata": {},
     "output_type": "execute_result"
    }
   ],
   "source": [
    "type(say_hi())"
   ]
  },
  {
   "cell_type": "code",
   "execution_count": 19,
   "id": "simplified-brown",
   "metadata": {},
   "outputs": [],
   "source": [
    "#9\n",
    "s = 'hi'\n",
    "a = 10\n",
    "def say_hi():\n",
    "    b = a\n",
    "    print(a)\n",
    "    print(s)"
   ]
  },
  {
   "cell_type": "code",
   "execution_count": 20,
   "id": "unsigned-roller",
   "metadata": {},
   "outputs": [
    {
     "name": "stdout",
     "output_type": "stream",
     "text": [
      "10\n",
      "hi\n"
     ]
    }
   ],
   "source": [
    "say_hi()"
   ]
  },
  {
   "cell_type": "raw",
   "id": "pleasant-flashing",
   "metadata": {},
   "source": [
    "10. None is of NoneType, which is in of itself an independent data type"
   ]
  },
  {
   "cell_type": "raw",
   "id": "determined-calcium",
   "metadata": {},
   "source": [
    "11. It imports the library and therefore all of its functionality can be implemented in a blackbox method ... i.e without knowing how it is implemented"
   ]
  },
  {
   "cell_type": "raw",
   "id": "diverse-redhead",
   "metadata": {},
   "source": [
    "12. spam.bacon()"
   ]
  },
  {
   "cell_type": "raw",
   "id": "genetic-state",
   "metadata": {},
   "source": [
    "13. Implement a try, catch block "
   ]
  },
  {
   "cell_type": "code",
   "execution_count": 22,
   "id": "altered-refund",
   "metadata": {},
   "outputs": [
    {
     "name": "stdout",
     "output_type": "stream",
     "text": [
      "0\n",
      "division by zero\n"
     ]
    }
   ],
   "source": [
    "#example\n",
    "a = int(input())\n",
    "try:\n",
    "    print(9/a)\n",
    "except Exception as e:\n",
    "    print(e)\n",
    "    "
   ]
  },
  {
   "cell_type": "raw",
   "id": "treated-cooler",
   "metadata": {},
   "source": [
    "14. try clause is an error management clause which helps in preventing the program from crashing by expecting the user to misuse the program and therefore covers all the possible failure points which can potentially occure during runtime (not compile time since it doesnt handle syntax errors)\n",
    "\n",
    "Except clause catches the errors thrown and prints relevant message to notify the user about the error"
   ]
  },
  {
   "cell_type": "code",
   "execution_count": null,
   "id": "expanded-modeling",
   "metadata": {},
   "outputs": [],
   "source": []
  }
 ],
 "metadata": {
  "kernelspec": {
   "display_name": "Python 3",
   "language": "python",
   "name": "python3"
  },
  "language_info": {
   "codemirror_mode": {
    "name": "ipython",
    "version": 3
   },
   "file_extension": ".py",
   "mimetype": "text/x-python",
   "name": "python",
   "nbconvert_exporter": "python",
   "pygments_lexer": "ipython3",
   "version": "3.7.6"
  }
 },
 "nbformat": 4,
 "nbformat_minor": 5
}
