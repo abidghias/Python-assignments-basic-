{
 "cells": [
  {
   "cell_type": "raw",
   "id": "dirty-photographer",
   "metadata": {},
   "source": [
    "Assert - It checks if a given logical expression is true or false\n",
    "    execution proceeds only if true \n",
    "    and raises the assertion error when it is false"
   ]
  },
  {
   "cell_type": "code",
   "execution_count": 6,
   "id": "tender-writer",
   "metadata": {},
   "outputs": [
    {
     "name": "stdout",
     "output_type": "stream",
     "text": [
      "Number is negative\n"
     ]
    }
   ],
   "source": [
    "#1\n",
    "try: \n",
    "    spam = -1\n",
    "    assert spam > 0 # Test if it true\n",
    "except AssertionError :\n",
    "    print(\"Number is negative\")"
   ]
  },
  {
   "cell_type": "code",
   "execution_count": 15,
   "id": "prostate-diversity",
   "metadata": {},
   "outputs": [
    {
     "name": "stdout",
     "output_type": "stream",
     "text": [
      "aaAA\n",
      "AAaa\n",
      "They have the same contents\n"
     ]
    }
   ],
   "source": [
    "#2\n",
    "try:\n",
    "    eggs = input('').casefold()\n",
    "    bacon = input('').casefold()\n",
    "    assert eggs == bacon # Test if the contnets are same\n",
    "    print('They have the same contents')\n",
    "except AssertionError :\n",
    "    print(\"they are not the same\")"
   ]
  },
  {
   "cell_type": "code",
   "execution_count": 5,
   "id": "funded-condition",
   "metadata": {},
   "outputs": [
    {
     "name": "stdout",
     "output_type": "stream",
     "text": [
      "Error\n"
     ]
    }
   ],
   "source": [
    "#3\n",
    "try:\n",
    "    assert 5 == 3  # Test if it true\n",
    "except AssertionError :\n",
    "    print(\"Error\")\n",
    "    "
   ]
  },
  {
   "cell_type": "code",
   "execution_count": 8,
   "id": "recovered-marathon",
   "metadata": {},
   "outputs": [],
   "source": [
    "#4\n",
    "import logging\n",
    "logging.basicConfig(filename='example.log', filemode='w', level=logging.DEBUG)"
   ]
  },
  {
   "cell_type": "raw",
   "id": "sunset-hypothetical",
   "metadata": {},
   "source": [
    "5\n",
    "import logging\n",
    "logging.basicConfig(filename='prograLog.txt', filemode='w', level=logging.DEBUG)\n",
    "\n",
    "Yes"
   ]
  },
  {
   "cell_type": "raw",
   "id": "israeli-demonstration",
   "metadata": {},
   "source": [
    "6. debug(), info(), warning(), error() and critical()"
   ]
  },
  {
   "cell_type": "code",
   "execution_count": 10,
   "id": "measured-party",
   "metadata": {},
   "outputs": [],
   "source": [
    "#9\n",
    "logger = logging.getLogger('my-logger')\n",
    "logger.propagate = False"
   ]
  },
  {
   "cell_type": "raw",
   "id": "boxed-receipt",
   "metadata": {},
   "source": [
    "10. the debugger will continue running from its current position in the code until the next breakpoint is found (if any) or until the end of the script is reached."
   ]
  },
  {
   "cell_type": "raw",
   "id": "rapid-generation",
   "metadata": {},
   "source": [
    "11. break point is python's built in debugger and helps you step line by line through ur code and identify the root of the problem"
   ]
  },
  {
   "cell_type": "raw",
   "id": "reduced-gospel",
   "metadata": {},
   "source": [
    "12. press beside the line number and a red dot will appear, this means that the breakpoint has been placed"
   ]
  },
  {
   "cell_type": "code",
   "execution_count": null,
   "id": "laden-stevens",
   "metadata": {},
   "outputs": [],
   "source": []
  }
 ],
 "metadata": {
  "kernelspec": {
   "display_name": "Python 3",
   "language": "python",
   "name": "python3"
  },
  "language_info": {
   "codemirror_mode": {
    "name": "ipython",
    "version": 3
   },
   "file_extension": ".py",
   "mimetype": "text/x-python",
   "name": "python",
   "nbconvert_exporter": "python",
   "pygments_lexer": "ipython3",
   "version": "3.7.6"
  }
 },
 "nbformat": 4,
 "nbformat_minor": 5
}
