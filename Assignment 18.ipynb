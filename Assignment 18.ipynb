{
 "cells": [
  {
   "cell_type": "markdown",
   "id": "4aba97a2",
   "metadata": {},
   "source": [
    "1. A text file stores data in the form of alphabets, digits and other special symbols by storing their ASCII values and are in a  human-readable format. for example, any file with a .txt, .c,etc extension. whereas binary file contains a sequence or a collection of bytes which are not in a human-readable format. text files follow some simple rules whereas binary files do not. both are a stream of bytes. in binary files, they have no concept of \"records\" neither repeating fix-length data records nor a stream of data that follows agreed-upon rules/restrictions for data ranges/ values which then permit us to implement variable-sided records. Binary files are chock full of bytes that have values ranging from 0...255"
   ]
  },
  {
   "cell_type": "raw",
   "id": "be93778a",
   "metadata": {},
   "source": [
    "2. Text files are more restrictive than binary files since they can only contain textual data. However, unlike binary files, they are less likely to become corrupted. While a small error in a binary file may make it unreadable, a small error in a text file may simply show up once the file has been opened.\n",
    "\n",
    "\n",
    " it may be possible to find out some information about an unknown binary file type by opening it in a text editor which may not be possible in a text file"
   ]
  },
  {
   "cell_type": "raw",
   "id": "226ab62b",
   "metadata": {},
   "source": [
    "3. End of line literals may be misunderstood as there is no such concept in binary files. files are loaded in a rigid 8-bit format and if there are files being read in any other format it may cause error"
   ]
  },
  {
   "cell_type": "raw",
   "id": "c5552e46",
   "metadata": {},
   "source": [
    "with open(\"welcome.txt\") as file: \n",
    "    # Use file to refer to the file object\n",
    "       data = file.read()\n",
    "\n",
    "YOU dont have to worry about closing the file or referencing issues as this is automatically taken care of        \n",
    "        "
   ]
  },
  {
   "cell_type": "raw",
   "id": "8ef0ba91",
   "metadata": {},
   "source": [
    "temp = open(filename,'r').readlines()\n",
    "\n",
    "Using something like this results in the text file being read line by line and thereby a trailing '\\n' character which can also be printed out and create issues if not dealt with.\n"
   ]
  },
  {
   "cell_type": "code",
   "execution_count": 5,
   "id": "c64e6fb8",
   "metadata": {},
   "outputs": [
    {
     "name": "stdout",
     "output_type": "stream",
     "text": [
      "['my name is abid\\n', 'i like to sleep\\n', 'and enjoy like any normal person']\n"
     ]
    }
   ],
   "source": [
    "temp = open('test.txt','r').readlines()\n",
    "print(temp)\n"
   ]
  },
  {
   "cell_type": "code",
   "execution_count": 7,
   "id": "7232bddd",
   "metadata": {},
   "outputs": [
    {
     "name": "stdout",
     "output_type": "stream",
     "text": [
      "['my name is abid', 'i like to sleep', 'and enjoy like any normal person']\n"
     ]
    }
   ],
   "source": [
    "temp = open('test.txt','r').read().splitlines()\n",
    "print(temp)"
   ]
  },
  {
   "cell_type": "raw",
   "id": "2830155d",
   "metadata": {},
   "source": [
    "So we can get rid of the '\\n' symbol which leaves a trailing mark"
   ]
  },
  {
   "cell_type": "raw",
   "id": "c6b95b8e",
   "metadata": {},
   "source": [
    "No, we have to explicitly leave a new line character if needed in writing files\n"
   ]
  },
  {
   "cell_type": "raw",
   "id": "e42a698b",
   "metadata": {},
   "source": [
    "hs.write(name + \"\\n\")"
   ]
  },
  {
   "cell_type": "code",
   "execution_count": 15,
   "id": "59df10b7",
   "metadata": {},
   "outputs": [
    {
     "name": "stdout",
     "output_type": "stream",
     "text": [
      "name is abid\n",
      "i like to sleep\n",
      "and enjoy like any normal person\n"
     ]
    }
   ],
   "source": [
    "#seek argument takes us to a particular point in the file which can be read from\n",
    "with open('test.txt','r') as f:\n",
    "    f.seek(3)\n",
    "    print(f.read())"
   ]
  },
  {
   "cell_type": "code",
   "execution_count": 16,
   "id": "75a2a50a",
   "metadata": {},
   "outputs": [
    {
     "name": "stdout",
     "output_type": "stream",
     "text": [
      "5\n"
     ]
    }
   ],
   "source": [
    "with open('test.txt','r') as f:\n",
    "    f.seek(5)\n",
    "    print(f.tell())"
   ]
  },
  {
   "cell_type": "raw",
   "id": "2a8b09ce",
   "metadata": {},
   "source": [
    "#So f.tell() returns the position of the current pointer position"
   ]
  },
  {
   "cell_type": "raw",
   "id": "cff8b46c",
   "metadata": {},
   "source": [
    "7. This module performs conversions between Python values and C structs represented as Python bytes objects. Format strings are the mechanism used to specify the expected layout when packing and unpacking data."
   ]
  },
  {
   "cell_type": "code",
   "execution_count": 17,
   "id": "7518e382",
   "metadata": {},
   "outputs": [
    {
     "name": "stdout",
     "output_type": "stream",
     "text": [
      "b'\\x01\\x00\\x02\\x00\\x03\\x00\\x00\\x00'\n"
     ]
    }
   ],
   "source": [
    "import struct\n",
    "  \n",
    "# Format: h is short in C type\n",
    "# Format: l is long in C type\n",
    "# Format 'hhl' stands for 'short short long'\n",
    "var = struct.pack('hhl',1,2,3)\n",
    "print(var)"
   ]
  },
  {
   "cell_type": "raw",
   "id": "27b30e3f",
   "metadata": {},
   "source": [
    " It is used mostly for handling binary data stored in files or from network connections, among other sources"
   ]
  },
  {
   "cell_type": "raw",
   "id": "4bc8315e",
   "metadata": {},
   "source": [
    "8. The advantage of using pickle is that it can serialize pretty much any Python object, without having to add any extra code. Its also smart in that in will only write out any single object once, making it effective to store recursive structures like graphs"
   ]
  },
  {
   "cell_type": "raw",
   "id": "c5fc9ca5",
   "metadata": {},
   "source": [
    "9.The shelve module implements persistent storage for arbitrary Python objects which can be pickled, using a dictionary-like API. The shelve module can be used as a simple persistent storage option for Python objects when a relational database is overkill. The shelf is accessed by keys, just as with a dictionary"
   ]
  },
  {
   "cell_type": "code",
   "execution_count": 18,
   "id": "b7d8ec5f",
   "metadata": {},
   "outputs": [],
   "source": [
    "import shelve\n",
    "\n",
    "s = shelve.open('test_shelf.db')\n",
    "try:\n",
    "    s['key1'] = { 'int': 10, 'float':9.5, 'string':'Sample data' }\n",
    "finally:\n",
    "    s.close()"
   ]
  },
  {
   "cell_type": "markdown",
   "id": "0605c75d",
   "metadata": {},
   "source": [
    "10. The shelve module does not support concurrent read/write access to shelved objects. (Multiple simultaneous read accesses are safe.) I would assume that it's probably implementation dependent and in which case, in order to be sure, I would conclude that it certainly is not thread safe."
   ]
  },
  {
   "cell_type": "code",
   "execution_count": null,
   "id": "04b20275",
   "metadata": {},
   "outputs": [],
   "source": []
  }
 ],
 "metadata": {
  "kernelspec": {
   "display_name": "Python 3",
   "language": "python",
   "name": "python3"
  },
  "language_info": {
   "codemirror_mode": {
    "name": "ipython",
    "version": 3
   },
   "file_extension": ".py",
   "mimetype": "text/x-python",
   "name": "python",
   "nbconvert_exporter": "python",
   "pygments_lexer": "ipython3",
   "version": "3.6.9"
  }
 },
 "nbformat": 4,
 "nbformat_minor": 5
}
