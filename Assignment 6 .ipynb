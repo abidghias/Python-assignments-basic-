{
 "cells": [
  {
   "cell_type": "code",
   "execution_count": 4,
   "id": "fancy-screening",
   "metadata": {},
   "outputs": [
    {
     "name": "stdout",
     "output_type": "stream",
     "text": [
      "Hi this is an \"escape\" \n",
      " character \n"
     ]
    }
   ],
   "source": [
    "print(\"Hi this is an \\\"escape\\\" \\n character \")"
   ]
  },
  {
   "cell_type": "raw",
   "id": "formal-spoke",
   "metadata": {},
   "source": [
    "1. Escape characters help is overriding illegal characteres during execution\n",
    "    We use them by \"\\\" before the character to be escaped\n",
    "\n",
    "2.    Other escape characters include:\n",
    "        \n",
    "        \\n - new line\n",
    "        \\t - tab space\n",
    "        "
   ]
  },
  {
   "cell_type": "code",
   "execution_count": 5,
   "id": "active-counter",
   "metadata": {},
   "outputs": [
    {
     "name": "stdout",
     "output_type": "stream",
     "text": [
      "Hi this is an \"escape\" \n",
      " character \n"
     ]
    }
   ],
   "source": [
    "#3\n",
    "print(\"Hi this is an \\\"escape\\\" \\n character \")"
   ]
  },
  {
   "cell_type": "raw",
   "id": "sonic-grave",
   "metadata": {},
   "source": [
    "4. Single and double quotes in python dont conflict each other directly"
   ]
  },
  {
   "cell_type": "code",
   "execution_count": 7,
   "id": "civilian-transcription",
   "metadata": {},
   "outputs": [
    {
     "name": "stdout",
     "output_type": "stream",
     "text": [
      "social\r\n",
      "distancing\n"
     ]
    }
   ],
   "source": [
    "#5\n",
    "import os\n",
    "keyword = 'social'+ os.linesep + 'distancing'\n",
    "print(keyword)"
   ]
  },
  {
   "cell_type": "raw",
   "id": "chief-coaching",
   "metadata": {},
   "source": [
    "6. e\n",
    "   Hello\n",
    "   Hello\n",
    "   lo, world!"
   ]
  },
  {
   "cell_type": "raw",
   "id": "formed-wiring",
   "metadata": {},
   "source": [
    "7. 'Hello'.upper()           --> HELLO\n",
    "   'Hello'.upper().isupper() --> True\n",
    "   'Hello'.upper().lower()   --> hello"
   ]
  },
  {
   "cell_type": "code",
   "execution_count": 18,
   "id": "existing-holiday",
   "metadata": {},
   "outputs": [
    {
     "name": "stdout",
     "output_type": "stream",
     "text": [
      "['Remember,', 'remember,', 'the', 'fifth', 'of', 'July']\n",
      "There-can-only-one.\n"
     ]
    }
   ],
   "source": [
    "#8\n",
    "print('Remember, remember, the fifth of July'.split())\n",
    "print('-'.join('There can only one.'.split()))"
   ]
  },
  {
   "cell_type": "code",
   "execution_count": 32,
   "id": "coral-bumper",
   "metadata": {},
   "outputs": [
    {
     "name": "stdout",
     "output_type": "stream",
     "text": [
      "              center this               \n",
      "left this-------------------------------\n",
      "------------------------------right this\n"
     ]
    }
   ],
   "source": [
    "#9\n",
    "a = \"center this\"\n",
    "print (a.center(40))\n",
    "#it centers the statement by the specified width and leaves the rest in white spaces\n",
    "\n",
    "b = 'left this'\n",
    "print(b.ljust(40,'-'))\n",
    "#it takes 2 arguments, 1 mentioning the width by which the variable must go to the left, second is \n",
    "#an optional parameter which mentions to fill up the empty spaces with something\n",
    "b = 'right this'\n",
    "print(b.rjust(40,'-'))\n",
    "#it takes 2 arguments, 1 mentioning the width by which the variable must go to the right, second is \n",
    "#an optional parameter which mentions to fill up the empty spaces with something\n"
   ]
  },
  {
   "cell_type": "code",
   "execution_count": 34,
   "id": "occupied-scene",
   "metadata": {},
   "outputs": [
    {
     "name": "stdout",
     "output_type": "stream",
     "text": [
      "remove whitespace\n"
     ]
    }
   ],
   "source": [
    "#10\n",
    "a = \"             remove whitespace     \"\n",
    "print(a.strip())"
   ]
  },
  {
   "cell_type": "code",
   "execution_count": null,
   "id": "experimental-miller",
   "metadata": {},
   "outputs": [],
   "source": []
  }
 ],
 "metadata": {
  "kernelspec": {
   "display_name": "Python 3",
   "language": "python",
   "name": "python3"
  },
  "language_info": {
   "codemirror_mode": {
    "name": "ipython",
    "version": 3
   },
   "file_extension": ".py",
   "mimetype": "text/x-python",
   "name": "python",
   "nbconvert_exporter": "python",
   "pygments_lexer": "ipython3",
   "version": "3.7.6"
  }
 },
 "nbformat": 4,
 "nbformat_minor": 5
}
