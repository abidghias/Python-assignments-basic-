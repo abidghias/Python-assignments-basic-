{
 "cells": [
  {
   "cell_type": "code",
   "execution_count": 1,
   "id": "embedded-question",
   "metadata": {},
   "outputs": [
    {
     "name": "stdout",
     "output_type": "stream",
     "text": [
      "1 2 8\n"
     ]
    }
   ],
   "source": [
    "#1\n",
    "def func(a,b=6,c=8):\n",
    "    print(a,b,c)\n",
    "    \n",
    "func(1,2)"
   ]
  },
  {
   "cell_type": "markdown",
   "id": "focal-organizer",
   "metadata": {},
   "source": [
    "func will take 3 arguments each for a,b and c.. Here there are default values for b and c, so if only 1 argument was provided it would be for a..\n",
    "\n",
    "So if 3 arguments are provided it overrides the default arguments present in the signature of the function"
   ]
  },
  {
   "cell_type": "code",
   "execution_count": 3,
   "id": "single-payment",
   "metadata": {},
   "outputs": [
    {
     "ename": "SyntaxError",
     "evalue": "positional argument follows keyword argument (<ipython-input-3-f81467ba79d4>, line 3)",
     "output_type": "error",
     "traceback": [
      "\u001b[1;36m  File \u001b[1;32m\"<ipython-input-3-f81467ba79d4>\"\u001b[1;36m, line \u001b[1;32m3\u001b[0m\n\u001b[1;33m    func(c=1,a=2,3)\u001b[0m\n\u001b[1;37m                ^\u001b[0m\n\u001b[1;31mSyntaxError\u001b[0m\u001b[1;31m:\u001b[0m positional argument follows keyword argument\n"
     ]
    }
   ],
   "source": [
    "def func(a,b,c=5):\n",
    "    print(a,b,c)\n",
    "func(1,c=3,b=3"
   ]
  },
  {
   "cell_type": "markdown",
   "id": "checked-testament",
   "metadata": {},
   "source": [
    "Variable declaration outside the function takes precedence over the default parameters. \n",
    "\n",
    "Here the default position of the arguments is for a,b and then c\n",
    "\n",
    "But when the function is called, the posistion is changed by mentioning the variable name first and this is permissible.\n",
    "This is called positional argument vs keyword argument "
   ]
  },
  {
   "cell_type": "code",
   "execution_count": 4,
   "id": "common-midwest",
   "metadata": {},
   "outputs": [
    {
     "name": "stdout",
     "output_type": "stream",
     "text": [
      "1 (2, 3)\n"
     ]
    }
   ],
   "source": [
    "def func(a,*pargs):\n",
    "    print(a,pargs)\n",
    "\n",
    "func(1,2,3)"
   ]
  },
  {
   "cell_type": "markdown",
   "id": "controlling-buffer",
   "metadata": {},
   "source": [
    "*args denotes variable number of arguments as input. You can give as many inputs as u want"
   ]
  },
  {
   "cell_type": "code",
   "execution_count": 11,
   "id": "frank-talent",
   "metadata": {},
   "outputs": [
    {
     "name": "stdout",
     "output_type": "stream",
     "text": [
      "72\n",
      "60\n"
     ]
    }
   ],
   "source": [
    "#example\n",
    "def multiply(*args):\n",
    "    product = 1\n",
    "    for a in args:\n",
    "        product *= a\n",
    "\n",
    "    return product\n",
    "\n",
    "print(multiply(8,9))\n",
    "print(multiply(3,4,5))\n",
    "#here the number of arguments could be variable, i.e it can be as many as u like"
   ]
  },
  {
   "cell_type": "code",
   "execution_count": 12,
   "id": "knowing-shell",
   "metadata": {},
   "outputs": [
    {
     "name": "stdout",
     "output_type": "stream",
     "text": [
      "1 {'c': 3, 'b': 3}\n"
     ]
    }
   ],
   "source": [
    "def func(a,**kargs):\n",
    "    print(a,kargs)\n",
    "func(a=1,c=3,b=3)"
   ]
  },
  {
   "cell_type": "markdown",
   "id": "german-profile",
   "metadata": {},
   "source": [
    " **kargs is used to pass a keyworded, variable-length argument list.\n",
    " \n",
    " c and b here are key-worded variable length because the function doesn't know the number of arguments"
   ]
  },
  {
   "cell_type": "code",
   "execution_count": 13,
   "id": "listed-curve",
   "metadata": {},
   "outputs": [
    {
     "name": "stdout",
     "output_type": "stream",
     "text": [
      "1 {'b': 3, 'c': 4, 'd': 5}\n"
     ]
    }
   ],
   "source": [
    "#example\n",
    "func(1,b=3,c=4,d=5)"
   ]
  },
  {
   "cell_type": "code",
   "execution_count": 22,
   "id": "scheduled-dover",
   "metadata": {},
   "outputs": [
    {
     "name": "stdout",
     "output_type": "stream",
     "text": [
      "1 4 7 5\n"
     ]
    }
   ],
   "source": [
    "#5\n",
    "def func(a,b,c=8,d=5):\n",
    "    print(a,b,c,d)\n",
    "func(1,*(4,7))"
   ]
  },
  {
   "cell_type": "markdown",
   "id": "rental-assembly",
   "metadata": {},
   "source": [
    "Non key-word argument passing method, a is passed as 1, b and c is given 4 and 7 respectively. \n",
    "\n",
    "d is given default value of 5 in this case\n",
    "\n",
    "\\* makes it an iterable argument "
   ]
  },
  {
   "cell_type": "code",
   "execution_count": 25,
   "id": "figured-reminder",
   "metadata": {},
   "outputs": [
    {
     "name": "stdout",
     "output_type": "stream",
     "text": [
      "1 2 8 5\n"
     ]
    }
   ],
   "source": [
    "#example\n",
    "func(*(1,2))"
   ]
  },
  {
   "cell_type": "markdown",
   "id": "second-family",
   "metadata": {},
   "source": [
    "(l,m,n) = (1,['x'],{'a':'y'})"
   ]
  },
  {
   "cell_type": "markdown",
   "id": "seeing-native",
   "metadata": {},
   "source": [
    "If number of arguments is the same, then it doesnt matter if there is difference variable names"
   ]
  },
  {
   "cell_type": "code",
   "execution_count": null,
   "id": "charming-above",
   "metadata": {},
   "outputs": [],
   "source": []
  }
 ],
 "metadata": {
  "kernelspec": {
   "display_name": "Python 3",
   "language": "python",
   "name": "python3"
  },
  "language_info": {
   "codemirror_mode": {
    "name": "ipython",
    "version": 3
   },
   "file_extension": ".py",
   "mimetype": "text/x-python",
   "name": "python",
   "nbconvert_exporter": "python",
   "pygments_lexer": "ipython3",
   "version": "3.7.6"
  }
 },
 "nbformat": 4,
 "nbformat_minor": 5
}
