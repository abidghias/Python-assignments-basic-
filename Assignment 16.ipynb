{
 "cells": [
  {
   "cell_type": "code",
   "execution_count": 2,
   "id": "sustained-rally",
   "metadata": {},
   "outputs": [],
   "source": [
    "#1\n",
    "years = [1998,1999,2000,2001,2002]"
   ]
  },
  {
   "cell_type": "code",
   "execution_count": 6,
   "id": "upper-italic",
   "metadata": {},
   "outputs": [
    {
     "data": {
      "text/plain": [
       "2002"
      ]
     },
     "execution_count": 6,
     "metadata": {},
     "output_type": "execute_result"
    }
   ],
   "source": [
    "#2\n",
    "#3rd birthday \n",
    "years[3]\n",
    "#oldest\n",
    "years[-1]"
   ]
  },
  {
   "cell_type": "code",
   "execution_count": 19,
   "id": "promotional-mills",
   "metadata": {},
   "outputs": [],
   "source": [
    "#4\n",
    "x = ['mozzarella','cinderella','salmonella']"
   ]
  },
  {
   "cell_type": "code",
   "execution_count": 11,
   "id": "confused-summer",
   "metadata": {},
   "outputs": [
    {
     "name": "stdout",
     "output_type": "stream",
     "text": [
      "mozzarella\n",
      "cinderella\n",
      "salmonella\n"
     ]
    },
    {
     "data": {
      "text/plain": [
       "['MOZZARELLA', 'CINDERELLA', 'SALMONELLA']"
      ]
     },
     "execution_count": 11,
     "metadata": {},
     "output_type": "execute_result"
    }
   ],
   "source": [
    "for i in x:\n",
    "    print(i)\n",
    "list(map(lambda x : x.upper(),x))"
   ]
  },
  {
   "cell_type": "code",
   "execution_count": 15,
   "id": "demanding-machine",
   "metadata": {},
   "outputs": [
    {
     "data": {
      "text/plain": [
       "'CINDERELLA'"
      ]
     },
     "execution_count": 15,
     "metadata": {},
     "output_type": "execute_result"
    }
   ],
   "source": [
    "#5\n",
    "x[1].upper()"
   ]
  },
  {
   "cell_type": "code",
   "execution_count": 16,
   "id": "maritime-potato",
   "metadata": {},
   "outputs": [
    {
     "data": {
      "text/plain": [
       "'MOZZARELLA'"
      ]
     },
     "execution_count": 16,
     "metadata": {},
     "output_type": "execute_result"
    }
   ],
   "source": [
    "#6\n",
    "x[0].upper()"
   ]
  },
  {
   "cell_type": "code",
   "execution_count": 20,
   "id": "sudden-edward",
   "metadata": {},
   "outputs": [
    {
     "name": "stdout",
     "output_type": "stream",
     "text": [
      "Nobel prize winner\n"
     ]
    },
    {
     "data": {
      "text/plain": [
       "['mozzarella', 'cinderella']"
      ]
     },
     "execution_count": 20,
     "metadata": {},
     "output_type": "execute_result"
    }
   ],
   "source": [
    "#7\n",
    "x.pop(-1)\n",
    "print('Nobel prize winner')\n",
    "x"
   ]
  },
  {
   "cell_type": "code",
   "execution_count": 22,
   "id": "thrown-evans",
   "metadata": {},
   "outputs": [],
   "source": [
    "#8\n",
    "suprise_list = ['groucho','chico','harpo']"
   ]
  },
  {
   "cell_type": "code",
   "execution_count": 31,
   "id": "focused-celebration",
   "metadata": {},
   "outputs": [
    {
     "data": {
      "text/plain": [
       "'harpo'"
      ]
     },
     "execution_count": 31,
     "metadata": {},
     "output_type": "execute_result"
    }
   ],
   "source": [
    "#9\n",
    "last = suprise_list[-1]\n",
    "last.lower()"
   ]
  },
  {
   "cell_type": "code",
   "execution_count": 32,
   "id": "younger-chess",
   "metadata": {},
   "outputs": [
    {
     "data": {
      "text/plain": [
       "'oprah'"
      ]
     },
     "execution_count": 32,
     "metadata": {},
     "output_type": "execute_result"
    }
   ],
   "source": [
    "last[::-1]"
   ]
  },
  {
   "cell_type": "code",
   "execution_count": 33,
   "id": "official-innocent",
   "metadata": {},
   "outputs": [
    {
     "data": {
      "text/plain": [
       "'Harpo'"
      ]
     },
     "execution_count": 33,
     "metadata": {},
     "output_type": "execute_result"
    }
   ],
   "source": [
    "last.capitalize()"
   ]
  },
  {
   "cell_type": "code",
   "execution_count": 38,
   "id": "substantial-treatment",
   "metadata": {},
   "outputs": [],
   "source": [
    "#10\n",
    "e2f = {'Dogs':'chien','cats':'chat','walruse':'morse'}"
   ]
  },
  {
   "cell_type": "code",
   "execution_count": 41,
   "id": "placed-benchmark",
   "metadata": {},
   "outputs": [
    {
     "data": {
      "text/plain": [
       "'morse'"
      ]
     },
     "execution_count": 41,
     "metadata": {},
     "output_type": "execute_result"
    }
   ],
   "source": [
    "#11\n",
    "e2f['walruse']"
   ]
  },
  {
   "cell_type": "code",
   "execution_count": 43,
   "id": "about-voluntary",
   "metadata": {},
   "outputs": [
    {
     "data": {
      "text/plain": [
       "{'chien': 'Dogs', 'chat': 'cats', 'morse': 'walruse'}"
      ]
     },
     "execution_count": 43,
     "metadata": {},
     "output_type": "execute_result"
    }
   ],
   "source": [
    "#12\n",
    "f2e = {value : key for (key,value) in e2f.items()}\n",
    "f2e"
   ]
  },
  {
   "cell_type": "code",
   "execution_count": 45,
   "id": "amino-wildlife",
   "metadata": {},
   "outputs": [
    {
     "data": {
      "text/plain": [
       "'Dogs'"
      ]
     },
     "execution_count": 45,
     "metadata": {},
     "output_type": "execute_result"
    }
   ],
   "source": [
    "#13\n",
    "f2e['chien']"
   ]
  },
  {
   "cell_type": "code",
   "execution_count": 51,
   "id": "collect-california",
   "metadata": {},
   "outputs": [
    {
     "name": "stdout",
     "output_type": "stream",
     "text": [
      "['Dogs', 'cats', 'walruse']\n"
     ]
    },
    {
     "data": {
      "text/plain": [
       "dict_keys(['Dogs', 'cats', 'walruse'])"
      ]
     },
     "execution_count": 51,
     "metadata": {},
     "output_type": "execute_result"
    }
   ],
   "source": [
    "#14\n",
    "animals = []\n",
    "for x in e2f.keys():\n",
    "    animals.append(x)\n",
    "print(animals)\n",
    "e2f.keys()"
   ]
  },
  {
   "cell_type": "code",
   "execution_count": 68,
   "id": "dried-tribune",
   "metadata": {},
   "outputs": [],
   "source": [
    "#15\n",
    "life = {'animal':{'birds':{1:2},'octopi':{3:4},'emus':{5:6}, 'cats':['Henri','Grumpy','Lucy']},}"
   ]
  },
  {
   "cell_type": "code",
   "execution_count": 69,
   "id": "expected-crystal",
   "metadata": {},
   "outputs": [
    {
     "data": {
      "text/plain": [
       "dict_keys(['animal'])"
      ]
     },
     "execution_count": 69,
     "metadata": {},
     "output_type": "execute_result"
    }
   ],
   "source": [
    "#16\n",
    "life.keys()"
   ]
  },
  {
   "cell_type": "code",
   "execution_count": 70,
   "id": "bridal-grain",
   "metadata": {},
   "outputs": [
    {
     "data": {
      "text/plain": [
       "{'birds': {1: 2},\n",
       " 'octopi': {3: 4},\n",
       " 'emus': {5: 6},\n",
       " 'cats': ['Henri', 'Grumpy', 'Lucy']}"
      ]
     },
     "execution_count": 70,
     "metadata": {},
     "output_type": "execute_result"
    }
   ],
   "source": [
    "#17\n",
    "life['animal']"
   ]
  },
  {
   "cell_type": "code",
   "execution_count": 71,
   "id": "periodic-trinity",
   "metadata": {},
   "outputs": [
    {
     "data": {
      "text/plain": [
       "['Henri', 'Grumpy', 'Lucy']"
      ]
     },
     "execution_count": 71,
     "metadata": {},
     "output_type": "execute_result"
    }
   ],
   "source": [
    "#18\n",
    "life['animal']['cats']"
   ]
  },
  {
   "cell_type": "code",
   "execution_count": null,
   "id": "present-grace",
   "metadata": {},
   "outputs": [],
   "source": []
  }
 ],
 "metadata": {
  "kernelspec": {
   "display_name": "Python 3",
   "language": "python",
   "name": "python3"
  },
  "language_info": {
   "codemirror_mode": {
    "name": "ipython",
    "version": 3
   },
   "file_extension": ".py",
   "mimetype": "text/x-python",
   "name": "python",
   "nbconvert_exporter": "python",
   "pygments_lexer": "ipython3",
   "version": "3.7.6"
  }
 },
 "nbformat": 4,
 "nbformat_minor": 5
}
