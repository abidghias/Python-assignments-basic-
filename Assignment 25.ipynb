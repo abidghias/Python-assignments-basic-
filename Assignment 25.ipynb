{
 "cells": [
  {
   "cell_type": "code",
   "execution_count": 3,
   "id": "lined-civilian",
   "metadata": {},
   "outputs": [
    {
     "data": {
      "text/plain": [
       "<generator object <genexpr> at 0x0000025AD26D7F48>"
      ]
     },
     "execution_count": 3,
     "metadata": {},
     "output_type": "execute_result"
    }
   ],
   "source": [
    "(i for i in range(10))\n",
    "# this is a generator expression which returns an object"
   ]
  },
  {
   "cell_type": "code",
   "execution_count": 4,
   "id": "christian-joshua",
   "metadata": {},
   "outputs": [
    {
     "data": {
      "text/plain": [
       "[0, 1, 2, 3, 4, 5, 6, 7, 8, 9]"
      ]
     },
     "execution_count": 4,
     "metadata": {},
     "output_type": "execute_result"
    }
   ],
   "source": [
    "[i for i in range(10)]\n",
    "#this is the output of the expression which returns a list"
   ]
  },
  {
   "cell_type": "markdown",
   "id": "raised-maple",
   "metadata": {},
   "source": [
    "2.\n",
    "\n",
    "1. In creating a python generator, we use a function. But in creating an iterator in python, we use the iter() and next() functions.\n",
    "2. A generator in python makes use of the ‘yield’ keyword. but its not the case with iterator\n",
    "3. To write a python generator, you can either use a Python function or a comprehension. But for an iterator, you must use the iter() and next() functions.\n",
    "4. Generator in python let us write fast and compact code. This is an advantage over Python iterators. They are also simpler to code than do custom iterator."
   ]
  },
  {
   "cell_type": "markdown",
   "id": "progressive-mandate",
   "metadata": {},
   "source": [
    "3 \n",
    "\n",
    "1. yield statement instead of return usually used.\n",
    "2. it returns an object (iterator) but does not start execution immediately\n",
    "3. Local variables and their states are remembered between successive calls"
   ]
  },
  {
   "cell_type": "markdown",
   "id": "baking-receipt",
   "metadata": {},
   "source": [
    "4\n",
    "\n",
    "1. yield statement pauses the function saving all its states and later continues from there on successive calls.\n",
    "2. Once the function yields, the function is paused and the control is transferred to the caller.\n",
    "3. Local variables and their states are remembered between successive calls."
   ]
  },
  {
   "cell_type": "markdown",
   "id": "speaking-copying",
   "metadata": {},
   "source": [
    "5\n",
    "\n",
    "1. map returs an object but list comprehension gives direct output\n",
    "2. List comprehension is more concise and easier to read as compared to map\n",
    "3. List comprehension is faster than map when we need to evaluate expressions that are too long or complicated to express\n",
    "4. Map is faster in case of calling an already defined function (as no lambda is required)."
   ]
  },
  {
   "cell_type": "code",
   "execution_count": 9,
   "id": "liked-latter",
   "metadata": {},
   "outputs": [
    {
     "name": "stdout",
     "output_type": "stream",
     "text": [
      "<map object at 0x0000025AD288D788>\n",
      "[1, 4, 9, 16]\n"
     ]
    },
    {
     "data": {
      "text/plain": [
       "[1, 4, 9, 16]"
      ]
     },
     "execution_count": 9,
     "metadata": {},
     "output_type": "execute_result"
    }
   ],
   "source": [
    "def square(x):\n",
    "    return x **2\n",
    "\n",
    "l = [1,2,3,4]\n",
    "x = map(square,l)\n",
    "\n",
    "#map similiar to generator\n",
    "print(x)\n",
    "print(list(x))\n",
    "\n",
    "#list comprehension\n",
    "[i**2 for i in l]\n"
   ]
  },
  {
   "cell_type": "code",
   "execution_count": null,
   "id": "vanilla-viewer",
   "metadata": {},
   "outputs": [],
   "source": []
  }
 ],
 "metadata": {
  "kernelspec": {
   "display_name": "Python 3",
   "language": "python",
   "name": "python3"
  },
  "language_info": {
   "codemirror_mode": {
    "name": "ipython",
    "version": 3
   },
   "file_extension": ".py",
   "mimetype": "text/x-python",
   "name": "python",
   "nbconvert_exporter": "python",
   "pygments_lexer": "ipython3",
   "version": "3.7.6"
  }
 },
 "nbformat": 4,
 "nbformat_minor": 5
}
