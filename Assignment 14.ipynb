{
 "cells": [
  {
   "cell_type": "raw",
   "id": "better-credit",
   "metadata": {},
   "source": [
    "1. The rgba() function define colors using the Red-green-blue-alpha (RGBA) model."
   ]
  },
  {
   "cell_type": "code",
   "execution_count": 3,
   "id": "effective-columbus",
   "metadata": {},
   "outputs": [],
   "source": [
    "#2\n",
    "from PIL import ImageColor"
   ]
  },
  {
   "cell_type": "code",
   "execution_count": 4,
   "id": "acknowledged-forward",
   "metadata": {},
   "outputs": [
    {
     "data": {
      "text/plain": [
       "(100, 149, 237, 255)"
      ]
     },
     "execution_count": 4,
     "metadata": {},
     "output_type": "execute_result"
    }
   ],
   "source": [
    "ImageColor.getcolor('CornflowerBlue', 'RGBA')"
   ]
  },
  {
   "cell_type": "markdown",
   "id": "australian-italian",
   "metadata": {},
   "source": [
    "3. The box.tuple submodule provides read-only access for the tuple userdata type. "
   ]
  },
  {
   "cell_type": "code",
   "execution_count": 5,
   "id": "dress-joint",
   "metadata": {},
   "outputs": [],
   "source": [
    "from PIL import Image"
   ]
  },
  {
   "cell_type": "code",
   "execution_count": 6,
   "id": "contemporary-feedback",
   "metadata": {},
   "outputs": [
    {
     "data": {
      "text/plain": [
       "PIL.Image.Image"
      ]
     },
     "execution_count": 6,
     "metadata": {},
     "output_type": "execute_result"
    }
   ],
   "source": [
    "#4\n",
    "Image.Image"
   ]
  },
  {
   "cell_type": "raw",
   "id": "certain-secret",
   "metadata": {},
   "source": [
    "#5\n",
    "PIL.Image.size"
   ]
  },
  {
   "cell_type": "raw",
   "id": "conceptual-underground",
   "metadata": {},
   "source": [
    "6. Image.crop(box=None)"
   ]
  },
  {
   "cell_type": "markdown",
   "id": "virgin-melissa",
   "metadata": {},
   "source": [
    "7.  Image.save(fp, format=None, **params)\n",
    " Saves this image under the given filename. If no format is specified, the format to use is determined from the filename extension, if possible."
   ]
  },
  {
   "cell_type": "raw",
   "id": "adaptive-lover",
   "metadata": {},
   "source": [
    "8. ImageDraw"
   ]
  },
  {
   "cell_type": "markdown",
   "id": "civil-vector",
   "metadata": {},
   "source": [
    "9. PIL.ImageDraw.Draw.arc(xy, start, end, fill=None)"
   ]
  },
  {
   "cell_type": "code",
   "execution_count": null,
   "id": "unauthorized-mystery",
   "metadata": {},
   "outputs": [],
   "source": []
  }
 ],
 "metadata": {
  "kernelspec": {
   "display_name": "Python 3",
   "language": "python",
   "name": "python3"
  },
  "language_info": {
   "codemirror_mode": {
    "name": "ipython",
    "version": 3
   },
   "file_extension": ".py",
   "mimetype": "text/x-python",
   "name": "python",
   "nbconvert_exporter": "python",
   "pygments_lexer": "ipython3",
   "version": "3.7.6"
  }
 },
 "nbformat": 4,
 "nbformat_minor": 5
}
